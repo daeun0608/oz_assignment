{
 "cells": [
  {
   "metadata": {},
   "cell_type": "markdown",
   "source": [
    "## ♥︎ MongoDB\n",
    "- 문서 기반의 NoSQL DB\n",
    "- JSON/BSON 형식의 동적인 문서 사용 (JSON이라는 구조만 있고 데이터의 구조와과 형태가 정해지지 않음) ➡️ 유연성 확장성\n",
    "\n",
    "1. **문서 기반 데이터베이스**\n",
    "    - MongoDB는 데이터를 문서(Document)라는 단위로 저장<br>\n",
    "    각 문서는 키-값으로 이루어진 BSON(Binary JSON)으로 표현되며, 여러 문서가 컬렉션(Collection)에 저장\n",
    "        - 컬렉션은 테이블, 각 문서는 행데이터로 매칭\n",
    "2. **유연한 스키마**\n",
    "    - MongoDB는 동적 스키마(Dynamic Schema)를 사용하므로, 각 문서가 다른 구조를 가질 수 있고 필드를 동적으로 변경할 수 있어 데이터 모델의 변경이 유연함\n",
    "3. **JSON/BSON 형식**\n",
    "    - 데이터는 JSON과 유사한 문서 구조를 사용하며, BSON 형식으로 이진화되어 저장됩니다. 이는 대용량 데이터 처리 및 전송에서 성능 향상을 가져옵니다.\n",
    "    - BSON이란?\n",
    "\n",
    "        JSON의 이진 표현 형식으로, JSON과 유사하지만 이진 데이터로 표현됩니다.\n",
    "\n",
    "        MongoDB에서는 BSON 형식으로 데이터를 저장합니다.\n",
    "\n",
    "        **JSON**\n",
    "\n",
    "        ```json\n",
    "        {\n",
    "          \"name\": \"John\",\n",
    "          \"age\": 30,\n",
    "          \"city\": \"New York\"\n",
    "        }\n",
    "        ```\n",
    "\n",
    "        **BSON**\n",
    "\n",
    "        ```arduino\n",
    "        \\x16\\x00\\x00\\x00          // 전체 크기\n",
    "        \\x02                       // 문자열 타입\n",
    "        name\\x00                   // 필드 이름\n",
    "        \\x04\\x00\\x00\\x00John\\x00   // 문자열 값\n",
    "        \\x10\\x00                    // 16 (숫자 타입)\n",
    "        age\\x00\\x00\\x00            // 필드 이름\n",
    "        \\x1E\\x00\\x00\\x00           // 30 (숫자 값)\n",
    "        \\x02\\x00                    // 문자열 타입\n",
    "        city\\x00                   // 필드 이름\n",
    "        \\x0C\\x00\\x00\\x00New York\\x00  // 문자열 값\n",
    "        \\x00                       // 마지막\n",
    "        ```\n",
    "\n",
    "        - BSON은 이진 형식이므로 직렬화 및 역직렬화가 JSON보다 빠르게 이루어집니다. MongoDB는 BSON을 내부 저장 형식으로 사용하므로 데이터베이스의 입출력이 효율적으로 처리됩니다.\n",
    "4. **높은 확장성**\n",
    "    - MongoDB는 수평적 확장이 가능합니다. 여러 서버에 데이터를 분산하고 데이터베이스의 용량을 증가시킬 수 있어 대규모 애플리케이션에 적합합니다.\n",
    "    - 수평적 확장\n",
    "\n",
    "        수평적 확장을 위해선 데이터의 파티셔닝이나 샤딩(Sharding)과 같은 기술이 필요하며, 이는 구현 및 관리가 복잡할 수 있습니다. MongoDB는 처음부터 수평적 확장을 염두에 두고 설계되었으며, 데이터를 자동으로 분산 및 관리하는 기능을 내장하고 있어 비교적 쉽게 수평적 확장이 가능합니다.\n",
    "\n",
    "5. **인덱싱과 검색 기능**\n",
    "    - MongoDB는 인덱싱을 지원하여 데이터의 검색 속도를 향상시킵니다. 다양한 쿼리와 검색 연산자를 활용하여 유연한 데이터 검색이 가능합니다.\n",
    "6. **자동 샤딩(Sharding)**\n",
    "    - 대용량의 데이터를 처리하기 위해 자동 샤딩 기능을 제공합니다. 이를 통해 데이터베이스가 수평으로 확장되어 성능을 유지할 수 있습니다.\n",
    "    - 샤딩(Sharding)\n",
    "\n",
    "        [Sharding — MongoDB Manual](https://www.mongodb.com/docs/manual/sharding/)\n",
    "\n",
    "        **Increased read/write throughput:**\n",
    "\n",
    "        병렬성을 활용하여 데이터 집합을 여러 샤드에 분산시켜 읽기/쓰기 처리량을 증가시킬 수 있습니다. 예를 들어, 하나의 샤드가 초당 1,000개의 작업을 처리할 수 있다면, 각 추가 샤드는 처리량을 1,000개씩 더 늘려줍니다.\n",
    "\n",
    "        ![Untitled](https://prod-files-secure.s3.us-west-2.amazonaws.com/00feaf78-d356-41ee-90f9-616e7f73fd77/8ef8552e-f805-44e0-a5cf-578392bfe1bf/Untitled.png)\n",
    "\n",
    "        **요약:** 데이터를 여러 샤드에 분산시켜 병렬로 작업을 수행하므로 읽기/쓰기 처리량이 증가하며, 각 샤드 추가는 처리량을 선형적으로 확장시킵니다.\n",
    "\n",
    "        **Data Locality**\n",
    "        Zone Sharding을 사용하면 지리적으로 분산된 애플리케이션을 지원하기 위해 분산 데이터베이스를 손쉽게 생성할 수 있으며, 데이터 유지 정책은 특정 지역 내에서 데이터 저장을 강제화합니다. 각 지역은 하나 이상의 샤드를 가질 수 있습니다.\n",
    "\n",
    "        ![Untitled](https://prod-files-secure.s3.us-west-2.amazonaws.com/00feaf78-d356-41ee-90f9-616e7f73fd77/bb32cda6-2345-428d-8085-9b6523216312/Untitled.png)\n",
    "\n",
    "        **요약:** Zone Sharding을 통해 지리적으로 분산된 애플리케이션을 지원하고, 데이터의 저장 위치를 특정 지역에 강제화하여 데이터의 지역성을 제어할 수 있습니다."
   ],
   "id": "9d0df89cbb3d4c2e"
  },
  {
   "cell_type": "code",
   "execution_count": null,
   "id": "initial_id",
   "metadata": {
    "collapsed": true
   },
   "outputs": [],
   "source": [
    ""
   ]
  }
 ],
 "metadata": {
  "kernelspec": {
   "display_name": "Python 3",
   "language": "python",
   "name": "python3"
  },
  "language_info": {
   "codemirror_mode": {
    "name": "ipython",
    "version": 2
   },
   "file_extension": ".py",
   "mimetype": "text/x-python",
   "name": "python",
   "nbconvert_exporter": "python",
   "pygments_lexer": "ipython2",
   "version": "2.7.6"
  }
 },
 "nbformat": 4,
 "nbformat_minor": 5
}
