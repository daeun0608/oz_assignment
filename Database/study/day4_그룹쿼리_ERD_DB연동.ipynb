{
 "cells": [
  {
   "metadata": {},
   "cell_type": "markdown",
   "source": [
    "## 그룹쿼리 ( COUNT, SUM )\n",
    "```sql\n",
    "SELECT productLine, COUNT(*) AS productCount, SUM(quantity*price)\n",
    "FROM products\n",
    "GROUP BY productLine;\n",
    "```"
   ],
   "id": "766c42b8572f7b0b"
  },
  {
   "metadata": {},
   "cell_type": "markdown",
   "source": [
    "## ERD 프로그램\n",
    "- Aquerty : 테이블 제한(무료 5개)이 있지만 사용 방법이 쉬고 UI가 간편\n",
    "- MySQL Workbench : MySQL 데이터베이스용 ERD를 설계, 생성 및 관리하는 통합 도구\n",
    "- Draw.io(>diagrams.net) : 무료 온라인 다이어그램 도구로, 기본적인 ERD를 쉽게 구현"
   ],
   "id": "296462e3068f23fd"
  },
  {
   "metadata": {},
   "cell_type": "markdown",
   "source": [
    "### MySQL Workbernch ERD\n",
    "> EDR 다이어그램 생성프로그램<br>\n",
    "> File > new model > Add Diagram\n",
    "\n",
    "> 만든 EDR을 테이블 생성 쿼리문으로 전환<br>\n",
    "> File > Export > Forward Engineer SQL Script > Continue > Continue\n",
    "\n",
    "> 기존 DB를 EDR로 변환<br>\n",
    "> Database > Reverse Engineer > Continue > Continue > 스키마 선택 > C..\n",
    "\n"
   ],
   "id": "6bef97f58910fa40"
  },
  {
   "metadata": {},
   "cell_type": "markdown",
   "source": [
    "## Python - MySQL 연동\n",
    "#### mysql-connector-python\n",
    "제공자 : Oracle (MySQL 공식)<br>\n",
    "설치 명령어 : ```pip install mysql-connector-python```\n",
    "- pymysql보다 약간 더 빠르고 기능이 많고 안정적이다.\n",
    "- MySQL의 최신 기능을 pymysql보다 더 빠르게 지원한다.\n",
    "> 공식 드라이버를 선호하고 안정성이 중요하면 사용\n",
    "#### PyMySQL\n",
    "제공자 : 오픈소스 커뮤니티 (비공식이지만 널리 사용, MariaDB를 쓴다면 호환성이 더 좋다는 의견이 존재)<br>\n",
    "설치 명령어 : ```pip install pymysql```\n",
    "- C로 구현된 부분이 있는 mysql-connector-python와 달리 순수 Python이다.\n",
    "- mysql-connector-python보다 가볍고 설정이 쉽다.\n",
    "> 가볍고 간단하게 쓰고 싶으면 사용"
   ],
   "id": "1253cd2202d91af4"
  },
  {
   "metadata": {},
   "cell_type": "markdown",
   "source": [
    "## mysql-connector-python\n",
    "## Faker"
   ],
   "id": "92f17a2ca3f71cf9"
  },
  {
   "metadata": {},
   "cell_type": "code",
   "outputs": [],
   "execution_count": null,
   "source": [
    "# pip install faker : 가짜 정보 생성\n",
    "import mysql.connector\n",
    "from faker import Faker\n",
    "import random # 파이썬 기본 모듈\n",
    "\n",
    "# (1) MYSQL 연결\n",
    "db_connection = mysql.connector.connect(\n",
    "    host='localhost',\n",
    "    user='root',\n",
    "    password='0070',\n",
    "    database='study'\n",
    ")\n",
    "\n",
    "# (2) 쿼리 실행하기\n",
    "cursor = db_connection.cursor()     # SQL 쿼리를 보내는 객체 생성\n",
    "sql = \"INSERT INTO users(username, email) VALUES(%s, %s)\"\n",
    "values = ('다은', 'daeun@naver.com')\n",
    "cursor.execute(sql, values)\n",
    "\n",
    "\n",
    "cursor.execute(\"SELECT user_id FROM users\")\n",
    "valid_user_id = [row[0] for row in cursor.fetchall()]\n",
    "\n",
    "# (3) MYSQL 연결 끊기\n",
    "db_connection.commit()\n",
    "cursor.close()\n",
    "db_connection.close()"
   ],
   "id": "22e7c49fb971060b"
  },
  {
   "metadata": {},
   "cell_type": "code",
   "outputs": [],
   "execution_count": null,
   "source": [
    "# input\n",
    "# 100명의 users 더미 데이터 생성\n",
    "faker = Faker()\n",
    "for _ in range(100):\n",
    "    username = faker.user_name()\n",
    "    email = faker.email()\n",
    "    sql = \"INSERT INTO users(username, email) VALUES(%s, %s)\"\n",
    "    values = (username, email)\n",
    "    cursor.execute(sql, values)"
   ],
   "id": "f269d22c07c9d39f"
  },
  {
   "metadata": {},
   "cell_type": "code",
   "outputs": [],
   "execution_count": null,
   "source": [
    "#select\n",
    "# user_id 불러오기\n",
    "cursor.execute(\"SELECT user_id FROM users\")\n",
    "\n",
    "# fetch...() 계열 함수로 결과를 꺼내면 cousor의 내부 버퍼에 저장된 값을 꺼낸 후 버퍼가 비워진다\n",
    "valid_user_id = [row[0] for row in cursor.fetchall()]\n",
    "\"\"\"\n",
    "1개만 select해도 튜플형태로 값이 나와서 [(1,), (2,), (3,)]로 나오기 때문에 요소를 꺼내야함\n",
    "-> 리스트 컴프리헨션 사용 ( 기존 리스트나 반복 가능한 객체로부터 짧고 간결하게 새로운 리스트를 만드는 문법 )\n",
    "리스트형 : user_info = [(row[1], row[2]) for row in rows]\n",
    "딕셔너리 : user_dicts = [{'user_id': row[0], 'name': row[1]} for row in rows]\n",
    "\"\"\""
   ],
   "id": "8258e130c48e16f"
  },
  {
   "metadata": {},
   "cell_type": "code",
   "outputs": [],
   "execution_count": null,
   "source": [
    "# 100개의 주문 더미 데이터 생성\n",
    "for _ in range(100):\n",
    "    user_id = random.choice(valid_user_id)\n",
    "    product_name = faker.word()\n",
    "    quantity = random.randint(1, 10)\n",
    "    try:\n",
    "        sql = \"INSERT INTO orders(user_id, product_name, quantity) VALUES(%s, %s, %s)\"\n",
    "        values = (user_id, product_name, quantity)\n",
    "        cursor.execute(sql, values)\n",
    "    except:\n",
    "        print(\"오류 발생\")\n",
    "        pass\n",
    "db_connection.commit()\n",
    "cursor.close()\n",
    "db_connection.close()"
   ],
   "id": "d706f896eddfff93"
  },
  {
   "metadata": {},
   "cell_type": "markdown",
   "source": [
    "## PyMySQL\n",
    "#### **cursorclass**\n",
    "데이터베이스 쿼리의 결과를 어떻게 반환할지 결정<br>\n",
    "Default 빼고는 `pymysql.cursors.(커서이름)`\n",
    "\n",
    "1. **Default Cursor (`pymysql.cursors.Cursor`)**<br>\n",
    "(기본 커서)결과를 **튜플 형식**으로 반환, 열 이름 정보는 포함하지 않습니다.\n",
    "2. **DictCursor**<br>\n",
    "(**추천**)결과를 **딕셔너리 형식**으로 반환, 각 행은 '컬럼을 키 : 데이터를 값'으로 반환<br>\n",
    "결과를 처리할 때 컬럼으로 데이터에 접근 ➡️ 결과 데이터를 처리할 때 더 직관적이고 편리함\n",
    "3. **SSCursor**<br>\n",
    "서버 사이드 커서로, **큰 결과 집합**을 처리할 때 유용(10000건 이상의 큰 데이터 세트),<br>\n",
    "모든 결과를 한 번에 메모리에 로드하지 않고, 필요할 때마다 서버에서 행을 로드\n",
    "4. **SSDictCursor**<br>\n",
    "서버 사이드 딕셔너리 커서, 'SSCursor'의 기능에 딕셔너리 형식의 결과 반환을 추가"
   ],
   "id": "6c46d6d80b35f718"
  },
  {
   "metadata": {},
   "cell_type": "markdown",
   "source": [
    "### CRUD\n",
    "```\n",
    "Create       새 데이터 생성       INSERT INTO\n",
    " Read         데이터 조회           SELECT\n",
    "Update      기존 데이터 수정         UPDATE\n",
    "Delete      기존 데이터 삭제       DELETE FROM"
   ],
   "id": "a6668da866c162aa"
  },
  {
   "metadata": {
    "ExecuteTime": {
     "end_time": "2025-05-09T07:25:53.745024Z",
     "start_time": "2025-05-09T07:25:53.736466Z"
    }
   },
   "cell_type": "code",
   "source": [
    "import pymysql\n",
    "# (1) MYSQL 연결\n",
    "connection = pymysql.connect(host='localhost',\n",
    "                             user='root',\n",
    "                             password='0070',\n",
    "                             db='classicmodels',\n",
    "                             charset='utf8mb4',     # 이모티콘 포함하기\n",
    "                             cursorclass=pymysql.cursors.DictCursor)\n",
    "\n",
    "# (2) 쿼리 실행하기\n",
    "# INSERT INTO\n",
    "def add_customer():\n",
    "    cursor = connection.cursor()    # 리소스 관리를 위해 함수 내에서 생성과 삭제\n",
    "    name='다은'\n",
    "    familyNmae='김'\n",
    "    sql=f\"insert into customers(customerNumber, customerName, contactLastName) values({1000},'{name}','{familyNmae}')\"\n",
    "    cursor.execute(sql)\n",
    "    connection.commit()     # 실행문을 실제 DB에 반영 (select만 제외)\n",
    "    cursor.close()\n",
    "\n",
    "# SELECT\n",
    "def get_customer():\n",
    "    cursor = connection.cursor()\n",
    "    sql = \"SELECT * FROM customers\"\n",
    "    cursor.execute(sql)\n",
    "    customers = cursor.fetchone()  # fetchall() 전체 데이터\n",
    "    print('customers :',customers)\n",
    "    print('id :',customers['customerNumber'])\n",
    "    print('country :',customers['city'])\n",
    "    cursor.close()\n",
    "\n",
    "# UPDATE\n",
    "def update_customer():\n",
    "    cursor = connection.cursor()\n",
    "    newName='newName'\n",
    "    newLastName='newLastNmae'\n",
    "    sql = f\"update customers set customername='{newName}',contactLastName='{newLastName}' where customerNumber=1000\"\n",
    "    cursor.execute(sql)\n",
    "    connection.commit()\n",
    "    cursor.close()\n",
    "\n",
    "# DELETE FROM\n",
    "def delete_customer():\n",
    "    cursor = connection.cursor()\n",
    "    sql = \"DELETE FROM customers WHERE customerNumber=1000\"\n",
    "    cursor.execute(sql)\n",
    "    connection.commit()\n",
    "    cursor.close()\n",
    "\n",
    "# (3) MYSQL 연결 끊기\n",
    "connection.close()"
   ],
   "id": "a0021ef02ccebebc",
   "outputs": [],
   "execution_count": 27
  },
  {
   "metadata": {},
   "cell_type": "markdown",
   "source": [
    "### 리팩토링\n",
    "- with 사용\n",
    "- execute_query 사용"
   ],
   "id": "4423a7b91247272b"
  },
  {
   "metadata": {},
   "cell_type": "code",
   "outputs": [],
   "execution_count": null,
   "source": [
    "import pymysql\n",
    "\n",
    "def execute_query(connection, query, args=None):\n",
    "    with connection.cursor() as cursor:                 # with블록 안에서만 cursor 유지\n",
    "        cursor.execute(query, args or ())\n",
    "        if query.strip().upper().startswith('SELECT'):\n",
    "            return cursor.fetchall()\n",
    "        else:\n",
    "            connection.commit()\n",
    "\n",
    "def main():\n",
    "    connection = pymysql.connect(host='localhost',\n",
    "                                 user='username',\n",
    "                                 password='password',\n",
    "                                 db='database_name',\n",
    "                                 charset='utf8mb4',\n",
    "                                 cursorclass=pymysql.cursors.DictCursor)\n",
    "\n",
    "    try:\n",
    "        # SELECT 연산\n",
    "        result = execute_query(connection, \"SELECT * FROM table_name\")\n",
    "        print(\"SELECT 연산 결과:\")\n",
    "        for row in result:\n",
    "            print(row)\n",
    "\n",
    "        # INSERT 연산\n",
    "        execute_query(connection, \"INSERT INTO table_name (column1, column2) VALUES (%s, %s)\", ('data1', 'data2'))\n",
    "        print(\"INSERT 연산 수행됨.\")\n",
    "\n",
    "        # UPDATE 연산\n",
    "        execute_query(connection, \"UPDATE table_name SET column1=%s WHERE column2=%s\", ('new_data', 'criteria'))\n",
    "        print(\"UPDATE 연산 수행됨.\")\n",
    "\n",
    "        # DELETE 연산\n",
    "        execute_query(connection, \"DELETE FROM table_name WHERE column_name=%s\", ('criteria',))\n",
    "        print(\"DELETE 연산 수행됨.\")\n",
    "\n",
    "    finally:\n",
    "        connection.close()\n",
    "\n",
    "if __name__ == \"__main__\":\n",
    "    main()"
   ],
   "id": "ced49b9f8fff7957"
  }
 ],
 "metadata": {
  "kernelspec": {
   "display_name": "Python 3",
   "language": "python",
   "name": "python3"
  },
  "language_info": {
   "codemirror_mode": {
    "name": "ipython",
    "version": 2
   },
   "file_extension": ".py",
   "mimetype": "text/x-python",
   "name": "python",
   "nbconvert_exporter": "python",
   "pygments_lexer": "ipython2",
   "version": "2.7.6"
  }
 },
 "nbformat": 4,
 "nbformat_minor": 5
}
