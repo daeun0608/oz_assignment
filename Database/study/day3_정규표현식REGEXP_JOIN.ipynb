{
 "cells": [
  {
   "metadata": {},
   "cell_type": "markdown",
   "source": [
    "## 🤍정규표현식 REGEXP\n",
    "> REGEXP는 기본적으로 패턴 매칭에 사용되며 조건을 설정하는 부분인 **WHERE**나 **HAVING**에서 조건 필터링에 사용<br>\n",
    "> 유연한 패턴 매칭 : 문자열에 대해 더 복잡하고 정교한 조건을 걸 수 있다.<br>\n",
    "> 정규 표현식은 매우 강력한 도구지만, 너무 복잡한 패턴을 사용하면 성능 저하가 발생할 수 있기 때문에, 필요에 맞는 패턴을 사용하는 것이 중요\n",
    "```sql\n",
    "# email 컬럼에 \"gmail.com\"을 포함하는 이메일 주소만 status 컬럼을 'active'로 업데이트\n",
    "UPDATE users SET status = 'active'\n",
    "WHERE email REGEXP 'gmail\\\\.com';\n",
    "```\n",
    "- `\\\\.`은 **.** 을 문자 그대로 처리하기 위한 이스케이프 시퀀스\n",
    "    - 정규 표현식에서 **.** 은 임의의 문자를 의미\n",
    "- `WHERE phone_number REGEXP '[0-9]'` : 숫자를 포함하는가\n",
    "- `WHERE email REGEXP '^user_'` : 'user_'로 시작하는가, ^는 문자열의 시작을 의미\n",
    "- `WHERE email REGEXP 'gmail\\\\.com$'` : 'gmail.com'으로 끝나는가, $는 문자열의 끝을 의미\n",
    "- \\+ (플러스 기호) : **1회 이상 반복**을 의미하는 수량자\n",
    "    - [0-9]+: 하나 이상의 숫자 (예: \"123\", \"4567\" 등)\n",
    "- **REGEXP BINARY**를 사용하면 대소문자를 구분하지만 REGEXP만 사용하면 대소문자 구분 없이 패턴을 매칭할 수 있다."
   ],
   "id": "78debf15132fb686"
  },
  {
   "metadata": {},
   "cell_type": "markdown",
   "source": [
    "## JOIN\n",
    "1. INNER JOIN : 양쪽 테이블 모두에 일치하는 값이 있는 행\n",
    "```\n",
    "SELECT * FROM users u                           -- 테이블 별칭 지정\n",
    "INNER JOIN orders o ON u.user_id = o.user_id;\n",
    "```\n",
    "2. LEFT JOIN : A의 모든 행은 결과에 나타나며, B에 매칭이 없으면 NULL이 표시 ( RIGHT JOIN은 반대 )\n",
    "```\n",
    "SELECT * FROM A\n",
    "LEFT JOIN B ON A.user_id = B.user_id;\n",
    "```\n",
    "3. FULL JOIN : 두 테이블의 모든 행을 포함하며, 매칭되지 않는 경우 NULL<br>\n",
    "MySQL에서는 FULL JOIN을 기본적으로 지원하지 않으므로 UNION을 사용하여 구현\n",
    "```\n",
    "SELECT * FROM users\n",
    "LEFT JOIN orders ON users.user_id = orders.user_id\n",
    "UNION\n",
    "SELECT * FROM users\n",
    "RIGHT JOIN orders ON users.user_id = orders.user_id;\n",
    "```"
   ],
   "id": "56346573a88bd68c"
  }
 ],
 "metadata": {
  "kernelspec": {
   "display_name": "Python 3",
   "language": "python",
   "name": "python3"
  },
  "language_info": {
   "codemirror_mode": {
    "name": "ipython",
    "version": 2
   },
   "file_extension": ".py",
   "mimetype": "text/x-python",
   "name": "python",
   "nbconvert_exporter": "python",
   "pygments_lexer": "ipython2",
   "version": "2.7.6"
  }
 },
 "nbformat": 4,
 "nbformat_minor": 5
}
