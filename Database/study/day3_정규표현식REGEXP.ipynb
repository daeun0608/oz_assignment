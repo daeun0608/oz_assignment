{
 "cells": [
  {
   "metadata": {},
   "cell_type": "markdown",
   "source": [
    "## 🤍정규표현식 REGEXP\n",
    "> REGEXP는 기본적으로 패턴 매칭에 사용되며 조건을 설정하는 부분인 **WHERE**나 **HAVING**에서 조건 필터링에 사용<br>\n",
    "> 유연한 패턴 매칭 : 문자열에 대해 더 복잡하고 정교한 조건을 걸 수 있다.<br>\n",
    "> 정규 표현식은 매우 강력한 도구지만, 너무 복잡한 패턴을 사용하면 성능 저하가 발생할 수 있기 때문에, 필요에 맞는 패턴을 사용하는 것이 중요\n",
    "```sql\n",
    "# email 컬럼에 \"gmail.com\"을 포함하는 이메일 주소만 status 컬럼을 'active'로 업데이트\n",
    "UPDATE users SET status = 'active'\n",
    "WHERE email REGEXP 'gmail\\\\.com';\n",
    "```\n",
    "- `\\\\.`은 **.** 을 문자 그대로 처리하기 위한 이스케이프 시퀀스\n",
    "    - 정규 표현식에서 **.** 은 임의의 문자를 의미\n",
    "- `WHERE phone_number REGEXP '[0-9]'` : 숫자를 포함하는가\n",
    "- `WHERE email REGEXP '^user_'` : 'user_'로 시작하는가, ^는 문자열의 시작을 의미\n",
    "- `WHERE email REGEXP 'gmail\\\\.com$'` : 'gmail.com'으로 끝나는가, $는 문자열의 끝을 의미\n",
    "- \\+ (플러스 기호) : **1회 이상 반복**을 의미하는 수량자\n",
    "    - [0-9]+: 하나 이상의 숫자 (예: \"123\", \"4567\" 등)\n",
    "- **REGEXP BINARY**를 사용하면 대소문자를 구분하지만 REGEXP만 사용하면 대소문자 구분 없이 패턴을 매칭할 수 있다."
   ],
   "id": "78debf15132fb686"
  },
  {
   "metadata": {},
   "cell_type": "markdown",
   "source": "## DB 연동",
   "id": "beef9233aa36fbb7"
  },
  {
   "metadata": {
    "ExecuteTime": {
     "end_time": "2025-05-07T04:32:24.417687Z",
     "start_time": "2025-05-07T04:32:24.404509Z"
    }
   },
   "cell_type": "code",
   "source": [
    "# pip install mysql-connector-python : DB와 Python 연동\n",
    "# pip install faker : 가짜 정보 생성\n",
    "import mysql.connector\n",
    "from faker import Faker\n",
    "import random # 파이썬 기본 모듈\n",
    "\n",
    "# (1) MYSQL 연결\n",
    "db_connection = mysql.connector.connect(\n",
    "    host='localhost',\n",
    "    user='root',\n",
    "    password='0070',\n",
    "    database='study'\n",
    ")\n",
    "\n",
    "# (2) SQL 쿼리를 보내는 객체 생성\n",
    "cursor = db_connection.cursor()"
   ],
   "id": "7fe98060ad96639c",
   "outputs": [],
   "execution_count": 6
  },
  {
   "metadata": {
    "ExecuteTime": {
     "end_time": "2025-05-07T04:14:28.525122Z",
     "start_time": "2025-05-07T04:14:28.446691Z"
    }
   },
   "cell_type": "code",
   "source": [
    "# (3) MYSQL 연결 끊기\n",
    "db_connection.commit()\n",
    "cursor.close()\n",
    "db_connection.close()"
   ],
   "id": "6b57e942523cb4e5",
   "outputs": [
    {
     "data": {
      "text/plain": [
       "True"
      ]
     },
     "execution_count": 5,
     "metadata": {},
     "output_type": "execute_result"
    }
   ],
   "execution_count": 5
  },
  {
   "metadata": {},
   "cell_type": "code",
   "outputs": [],
   "execution_count": null,
   "source": [
    "# input\n",
    "# 100명의 users 더미 데이터 생성\n",
    "faker = Faker()\n",
    "for _ in range(100):\n",
    "    username = faker.user_name()\n",
    "    email = faker.email()\n",
    "\n",
    "    sql = \"INSERT INTO users(username, email) VALUES(%s, %s)\"\n",
    "    values = (username, email)\n",
    "    cursor.execute(sql, values)"
   ],
   "id": "25345808ac835a47"
  },
  {
   "metadata": {
    "ExecuteTime": {
     "end_time": "2025-05-07T04:42:29.108885Z",
     "start_time": "2025-05-07T04:42:29.105615Z"
    }
   },
   "cell_type": "code",
   "source": [
    "#select\n",
    "# user_id 불러오기\n",
    "cursor.execute(\"SELECT user_id FROM users\")\n",
    "\n",
    "# fetch...() 계열 함수로 결과를 꺼내면 cousor의 내부 버퍼에 저장된 값을 꺼낸 후 버퍼가 비워진다\n",
    "valid_user_id = [row[0] for row in cursor.fetchall()]\n",
    "\"\"\"\n",
    "1개만 select해도 튜플형태로 값이 나와서 [(1,), (2,), (3,)]로 나오기 때문에 요소를 꺼내야함\n",
    "-> 리스트 컴프리헨션 사용 ( 기존 리스트나 반복 가능한 객체로부터 짧고 간결하게 새로운 리스트를 만드는 문법 )\n",
    "리스트형 : user_info = [(row[1], row[2]) for row in rows]\n",
    "딕셔너리 : user_dicts = [{'user_id': row[0], 'name': row[1]} for row in rows]\n",
    "\"\"\""
   ],
   "id": "60665119b3d0ec49",
   "outputs": [
    {
     "data": {
      "text/plain": [
       "\"\\n1개만 select해도 튜플형태로 값이 나와서 [(1,), (2,), (3,)]로 나오기 때문에 요소를 꺼내야함\\n-> 리스트 컴프리헨션 사용 ( 기존 리스트나 반복 가능한 객체로부터 짧고 간결하게 새로운 리스트를 만드는 문법 )\\n리스트형 : user_info = [(row[1], row[2]) for row in rows]\\n딕셔너리 : user_dicts = [{'user_id': row[0], 'name': row[1]} for row in rows]\\n\""
      ]
     },
     "execution_count": 10,
     "metadata": {},
     "output_type": "execute_result"
    }
   ],
   "execution_count": 10
  },
  {
   "metadata": {
    "ExecuteTime": {
     "end_time": "2025-05-07T04:43:02.016579Z",
     "start_time": "2025-05-07T04:43:01.980454Z"
    }
   },
   "cell_type": "code",
   "source": [
    "# 100개의 주문 더미 데이터 생성\n",
    "for _ in range(100):\n",
    "    user_id = random.choice(valid_user_id)\n",
    "    product_name = faker.word()\n",
    "    quantity = random.randint(1, 10)\n",
    "    try:\n",
    "        sql = \"INSERT INTO orders(user_id, product_name, quantity) VALUES(%s, %s, %s)\"\n",
    "        values = (user_id, product_name, quantity)\n",
    "        cursor.execute(sql, values)\n",
    "    except:\n",
    "        print(\"오류 발생\")\n",
    "        pass\n",
    "db_connection.commit()\n",
    "cursor.close()\n",
    "db_connection.close()"
   ],
   "id": "ec8f61b5c857a6bd",
   "outputs": [],
   "execution_count": 11
  },
  {
   "metadata": {},
   "cell_type": "markdown",
   "source": [
    "## JOIN\n",
    "1. INNER JOIN : 양쪽 테이블 모두에 일치하는 값이 있는 행\n",
    "```\n",
    "SELECT * FROM users\n",
    "INNER JOIN orders ON users.user_id = orders.user_id;\n",
    "```\n",
    "2. LEFT JOIN : A의 모든 행은 결과에 나타나며, B에 매칭이 없으면 NULL이 표시 ( RIGHT JOIN은 반대 )\n",
    "```\n",
    "SELECT * FROM A\n",
    "LEFT JOIN B ON A.user_id = B.user_id;\n",
    "```\n",
    "3. FULL JOIN : 두 테이블의 모든 행을 포함하며, 매칭되지 않는 경우 NULL<br>\n",
    "MySQL에서는 FULL JOIN을 기본적으로 지원하지 않으므로 UNION을 사용하여 구현\n",
    "```\n",
    "SELECT * FROM users\n",
    "LEFT JOIN orders ON users.user_id = orders.user_id\n",
    "UNION\n",
    "SELECT * FROM users\n",
    "RIGHT JOIN orders ON users.user_id = orders.user_id;\n",
    "```"
   ],
   "id": "56346573a88bd68c"
  }
 ],
 "metadata": {
  "kernelspec": {
   "display_name": "Python 3",
   "language": "python",
   "name": "python3"
  },
  "language_info": {
   "codemirror_mode": {
    "name": "ipython",
    "version": 2
   },
   "file_extension": ".py",
   "mimetype": "text/x-python",
   "name": "python",
   "nbconvert_exporter": "python",
   "pygments_lexer": "ipython2",
   "version": "2.7.6"
  }
 },
 "nbformat": 4,
 "nbformat_minor": 5
}
