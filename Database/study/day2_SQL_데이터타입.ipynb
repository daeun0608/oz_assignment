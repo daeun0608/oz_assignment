{
 "cells": [
  {
   "metadata": {},
   "cell_type": "markdown",
   "source": [
    "## 🤍 DB 키워드\n",
    "- 로컬 DB에 설치되어 있는 데이터베이스들의 목록보기<br>\n",
    "show databases;\n",
    "- 워크벤치에서 주석처리<br>\n",
    "-- selcet * from users;"
   ],
   "id": "836be3225e0051a3"
  },
  {
   "metadata": {},
   "cell_type": "markdown",
   "source": [
    "## 🤍SQL(Structured Query Language)\n",
    "관계형 데이터베이스에서 데이터를 정의, 처리, 제어하는데 사용되는 표준화된 언어입니다. SQL은 주로 데이터베이스 관리 시스템(DBMS)과의 상호 작용을 위해 설계되었습니다.\n",
    "- 데이터 정의 언어DDL : 데이터베이스의 구조를 정의하고 관리하는 데 사용 (CREATE, ALTER, DROP, TRUNCATE )\n",
    "- 데이터 처리 언어DML : 데이터를 검색, 삽입, 수정, 삭제하는 데 사용 ( SELECT, INSERT, UPDATE, DELETE )\n",
    "- 데이터 제어 언어DCL : 데이터베이스에 대한 액세스를 제어하는 데 사용 ( GRANT, REVOKE )\n",
    "- 트랜잭션 제어 언어TCL : 데이터베이스 내의 트랜잭션을 관리하는데 사용 ( COMMIT, ROLLBACK, SAVEPOINT )"
   ],
   "id": "d8ebfc67011cea5d"
  },
  {
   "metadata": {},
   "cell_type": "markdown",
   "source": [
    "### **1. 데이터 정의 언어 (DDL - Data Definition Language)**\n",
    "**CREATE:** 데이터베이스 객체를 생성합니다. (**`CREATE TABLE`**, **`CREATE INDEX`** 등)\n",
    "```sql\n",
    "create database testdatabase; #데이터베이스 생성\n",
    "use testdatabase;  #데이터베이스 사용\n",
    "\n",
    "CREATE TABLE users (\n",
    "    id INT AUTO_INCREMENT PRIMARY KEY, # PRIMARY KEY 유일성을 보장하고 검색 속도를 향상\n",
    "                                       # AUTO_INCREMENT 해당 칼럼의 값이 자동으로 1씩 증가\n",
    "    username VARCHAR(50) NOT NULL, # NOT NULL\n",
    "    email VARCHAR(100) UNIQUE, # UNIQUE\n",
    "    is_business VARCHAR(10) DEFAULT False, # DEFAULT 지정된 기본값을 사용\n",
    "    age INT CHECK (age >= 18) # CHECK 해당 칼럼에 저장될 수 있는 값의 범위나 조건을 지정\n",
    "\n",
    "    dept_id INT,\n",
    "    FOREIGN KEY (dept_id) REFERENCES departments(dept_id)\n",
    "                [ON DELETE CASCADE/ON UPDATE CASCADE]\n",
    "                 #CASCADE: 참조된 부서가 삭제/변경되면 관련 직원도 같이 삭제/업데이트됨\n",
    ");\n",
    "```\n",
    "**ALTER:** 데이터베이스 객체를 수정합니다. (**`ALTER TABLE`** 등)\n",
    "```sql\n",
    "ALTER TABLE employees ADD COLUMN department VARCHAR(50);\n",
    "```\n",
    "**DROP:** 데이터베이스 객체를 삭제합니다. (**`DROP TABLE`** 등)\n",
    "```sql\n",
    "DROP TABLE employees;\n",
    "drop database if exists mydatabase;     #mydatabase가 존재하면 삭제\n",
    "```\n",
    "**TRUNCATE:** 테이블의 모든 레코드를 삭제하지만 테이블은 유지합니다.\n",
    "```sql\n",
    "TRUNCATE TABLE employees;\n",
    "```"
   ],
   "id": "46da3346a82da2f9"
  },
  {
   "metadata": {},
   "cell_type": "markdown",
   "source": [
    "### **2. 데이터 처리 언어 (DML - Data Manipulation Language)**\n",
    "- **SELECT:** 데이터베이스에서 정보를 검색합니다.\n",
    "    ```sql\n",
    "    SELECT first_name, last_name FROM employees WHERE department = 'IT';\n",
    "  SELECT first_name, last_name FROM B.employees WHERE department = 'IT'; # 'B'DB의 테이블을 선택\n",
    "    ```\n",
    "- **INSERT:** 새로운 데이터를 테이블에 삽입합니다.\n",
    "    ```sql\n",
    "    INSERT INTO employees (employee_id, first_name, last_name, hire_date, department)\n",
    "    VALUES (1, 'John', 'Doe', '2022-01-01', 'IT');\n",
    "    ```\n",
    "- **UPDATE:** 테이블의 기존 데이터를 수정합니다.\n",
    "    ```sql\n",
    "    UPDATE employees SET department = 'HR' WHERE employee_id = 1;\n",
    "    ```\n",
    "- **DELETE:** 테이블에서 데이터를 삭제합니다.\n",
    "    ```sql\n",
    "    DELETE FROM employees WHERE employee_id = 1;\n",
    "    ```"
   ],
   "id": "a4514b031888a2f9"
  },
  {
   "metadata": {},
   "cell_type": "markdown",
   "source": [
    "### **3. 데이터 제어 언어 (DCL - Data Control Language)**\n",
    "- **GRANT:** 사용자에게 특정 작업을 수행할 권한을 부여합니다.\n",
    "    ```sql\n",
    "    GRANT SELECT ON employees TO username;\n",
    "    ```\n",
    "- **REVOKE:** 사용자로부터 특정 작업 수행 권한을 제거합니다.\n",
    "    ```sql\n",
    "    REVOKE SELECT ON employees FROM username;\n",
    "    ```"
   ],
   "id": "a1bcce9baa5c5d78"
  },
  {
   "metadata": {},
   "cell_type": "markdown",
   "source": [
    "#### ︎User(사용자) 생성 및 권한부여\n",
    "mysql -u root -p # 유저로그인 : 유저와 관련된 작업을 수행하기 위해서는 MySQL에서 관리자(보통 root) 권한이 필요<br>\n",
    "mysql> USE mysql; # 터미널에서 'mysql'DB 접속<br>\n",
    "\n",
    "1. mysql 유저 확인<br>\n",
    "mysql> select * from user;\n",
    "\n",
    "2. mysql 유저 생성<br>\n",
    "mysql> CREATE USER 'username'@'localhost' IDENTIFIED BY 'user_password';\n",
    "\n",
    "3. 사용자 비밀번호 변경<br>\n",
    "mysql> SET PASSWORD FOR 'username'@'%' = '신규비밀번호';\n",
    "\n",
    "4. 권한 부여<br>\n",
    "mysql> GRANT ALL PRIVILEGES ON *.* TO 'username'@'localhost';    #모든 데이터베이스에 대한 권한 부여<br>\n",
    "mysql> FLUSH PRIVILEGES; # 변경된 권한 적용<br>\n",
    "mysql> SHOW GRANTS FOR 'username'@'localhost'; # 부여된 권한 확인<br>\n",
    "mysql> SHOW GRANTS; # 현재 로그인한 유저의 권한 확인\n",
    "\n",
    "5. 사용자 삭제<br>\n",
    "mysql> DROP USER 'username'@'%';\n",
    "\n",
    "> 표현 의미<br>\n",
    "> 'user'@'localhost' : 로컬에서만 접속 허용<br>\n",
    "> 'user'@'192.168.0.5' : 특정 IP에서만 접속 허용<br>\n",
    "> 'user'@'%' : 모든 외부 호스트에서 접속 허용"
   ],
   "id": "50c579112d68245f"
  },
  {
   "metadata": {},
   "cell_type": "markdown",
   "source": [
    "### 4. **트랜잭션 제어 언어 (TCL-Transaction Control Language)**\n",
    "- **COMMIT**: 트랜잭션을 완료하고, 데이터베이스 변경사항을 영구적으로 저장\n",
    "- **ROLLBACK**: 트랜잭션을 취소하고, 마지막 **`COMMIT`** 이후의 모든 변경사항을 되돌림\n",
    "- **SAVEPOINT**: 트랜잭션 내 특정 지점을 마킹하여 필요시 그 지점으로 되돌릴 수 있음"
   ],
   "id": "25bc803717f48459"
  },
  {
   "metadata": {},
   "cell_type": "markdown",
   "source": [
    "## 🤍 데이터타입\n",
    "데이터 타입 공식 문서 : https://dev.mysql.com/doc/refman/8.0/en/data-types.html\n",
    "\n",
    "숫자형\n",
    "- BOOLEAN : false 0, true 1 (0이 아닌값은 true로 간주)\n",
    "- INT(M) 또는 INTEGER(M) : 4바이트 정수\n",
    "- DECIMAL(M,D) 또는 NUMERIC(M,D) - 기본값으로 NUMERIC(10, 0)<br>\n",
    "소수점 포함 최대 M자리 저장(정밀도:전체 자릿수)와 D자리 소수점(스케일)으로 표현. 최대 65자리까지 표현 가능.\n",
    "\n",
    "문자형\n",
    "- CHAR(M) : 고정 길이 문자열 저장 (M: 0 ~ 255).\n",
    "- VARCHAR(M) : 가변 길이 문자열 저장 (M: 0 ~ 65,535).\n",
    "\n",
    "날짜형\n",
    "- DATE : 날짜(3바이트), '1000-01-01' ~ '9999-12-31'.\n",
    "- DATETIME : 날짜와 시간\n",
    "    - '1000-01-01 00:00:00' ~ '9999-12-31 23:59:59'\n",
    "    - 8바이트 ( 더 넓은 범위를 커버하며 더 많은 저장 공간을 사용 )\n",
    "- TIMESTAMP : 날짜와 시간\n",
    "    - '1970-01-01 00:00:00' ~ '2037-01-19 03:14:07'\n",
    "    - 4바이트\n",
    "    - 시간대 인식: TIMESTAMP는 UTC로 저장되며, 조회 시 서버의 시간대 설정에 따라 변환<br>국제화된 앱에서 시간대 변환의 중요성 때문에 유리\n",
    "    - 자동 갱신: INSERT나 UPDATE 연산 시 현재 시간으로 자동 갱신\n",
    "```\n",
    "CREATE TABLE blog_posts (\n",
    "    created_at TIMESTAMP DEFAULT CURRENT_TIMESTAMP,\n",
    "    updated_at TIMESTAMP DEFAULT CURRENT_TIMESTAMP ON UPDATE CURRENT_TIMESTAMP\n",
    ");\n",
    "```"
   ],
   "id": "76e6f808588243dc"
  }
 ],
 "metadata": {
  "kernelspec": {
   "display_name": "Python 3",
   "language": "python",
   "name": "python3"
  },
  "language_info": {
   "codemirror_mode": {
    "name": "ipython",
    "version": 2
   },
   "file_extension": ".py",
   "mimetype": "text/x-python",
   "name": "python",
   "nbconvert_exporter": "python",
   "pygments_lexer": "ipython2",
   "version": "2.7.6"
  }
 },
 "nbformat": 4,
 "nbformat_minor": 5
}
