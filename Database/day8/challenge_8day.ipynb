{
 "cells": [
  {
   "cell_type": "code",
   "id": "initial_id",
   "metadata": {
    "collapsed": true,
    "ExecuteTime": {
     "end_time": "2025-05-26T05:19:36.831920Z",
     "start_time": "2025-05-26T05:19:36.692627Z"
    }
   },
   "source": [
    "#데이터 삽입\n",
    "from pymongo import MongoClient\n",
    "\n",
    "def insert_data():\n",
    "    client = MongoClient('mongodb://localhost:27017/')\n",
    "    db = client.local  # 'local' 데이터베이스 사용\n",
    "\n",
    "    # 책 데이터 삽입\n",
    "    books = [\n",
    "        {\"title\": \"Kafka on the Shore\", \"author\": \"Haruki Murakami\", \"year\": 2002},\n",
    "        {\"title\": \"Norwegian Wood\", \"author\": \"Haruki Murakami\", \"year\": 1987},\n",
    "        {\"title\": \"1Q84\", \"author\": \"Haruki Murakami\", \"year\": 2009}\n",
    "    ]\n",
    "    db.books.insert_many(books)\n",
    "\n",
    "    # 영화 데이터 삽입\n",
    "    movies = [\n",
    "        {\"title\": \"Inception\", \"director\": \"Christopher Nolan\", \"year\": 2010, \"rating\": 8.8},\n",
    "        {\"title\": \"Interstellar\", \"director\": \"Christopher Nolan\", \"year\": 2014, \"rating\": 8.6},\n",
    "        {\"title\": \"The Dark Knight\", \"director\": \"Christopher Nolan\", \"year\": 2008, \"rating\": 9.0}\n",
    "    ]\n",
    "    db.movies.insert_many(movies)\n",
    "\n",
    "    # 사용자 행동 데이터 삽입\n",
    "    user_actions = [\n",
    "        {\"user_id\": 1, \"action\": \"click\", \"timestamp\": \"2023-04-12T08:00:00Z\"},\n",
    "        {\"user_id\": 1, \"action\": \"view\", \"timestamp\": \"2023-04-12T09:00:00Z\"},\n",
    "        {\"user_id\": 2, \"action\": \"purchase\", \"timestamp\": \"2023-04-12T10:00:00Z\"}\n",
    "    ]\n",
    "    db.user_actions.insert_many(user_actions)\n",
    "\n",
    "    print(\"Data inserted successfully\")\n",
    "    client.close()\n",
    "\n",
    "if __name__ == \"__main__\":\n",
    "    insert_data()\n"
   ],
   "outputs": [
    {
     "name": "stdout",
     "output_type": "stream",
     "text": [
      "Data inserted successfully\n"
     ]
    }
   ],
   "execution_count": 1
  },
  {
   "metadata": {
    "ExecuteTime": {
     "end_time": "2025-05-26T05:29:15.987783Z",
     "start_time": "2025-05-26T05:29:15.979512Z"
    }
   },
   "cell_type": "code",
   "source": [
    "client = MongoClient('mongodb://localhost:27017/')\n",
    "db = client.local"
   ],
   "id": "631438fd679837a3",
   "outputs": [],
   "execution_count": 2
  },
  {
   "metadata": {
    "ExecuteTime": {
     "end_time": "2025-05-26T06:31:02.696708Z",
     "start_time": "2025-05-26T06:31:02.689373Z"
    }
   },
   "cell_type": "code",
   "source": [
    "# [문제 1: 특정 장르의 책 찾기]\n",
    "# 데이터베이스에 새로운 필드로 genre를 책 데이터에 추가\n",
    "# \"fantasy\" 장르에 해당하는 모든 책의 제목과 저자를 찾는 MongoDB 쿼리를 함수로 만들어 문제를 해결\n",
    "def book_genre():\n",
    "    collection=db['books']\n",
    "    query={\"genre\":\"fantasy\"}\n",
    "    projection={\"title\":1,\"author\":1}\n",
    "    for doc in collection.find(query,projection):\n",
    "        print(doc)\n",
    "\n",
    "book_genre()    #genre의 추가 데이터X"
   ],
   "id": "515dea23bc0f585c",
   "outputs": [],
   "execution_count": 14
  },
  {
   "metadata": {
    "ExecuteTime": {
     "end_time": "2025-05-26T07:06:37.962720Z",
     "start_time": "2025-05-26T07:06:37.958764Z"
    }
   },
   "cell_type": "code",
   "source": [
    "# [문제 2: 감독별 평균 영화 평점 계산]\n",
    "# 모든 영화 감독의 영화 평점 평균을 계산하고, 평균 평점이 높은 순으로 정렬하는 MongoDB 쿼리를 함수로 만들어 문제를 해결\n",
    "def director_avg():\n",
    "    collection=db['movies']\n",
    "    for doc in collection.aggregate([{\"$group\":{\"_id\":\"$director\",\"rating_avg\":{\"$avg\":\"$rating\"}}}]):\n",
    "        print(doc)\n",
    "\n",
    "director_avg()"
   ],
   "id": "3817ad7195b17838",
   "outputs": [
    {
     "name": "stdout",
     "output_type": "stream",
     "text": [
      "{'_id': 'Christopher Nolan', 'rating_avg': 8.799999999999999}\n"
     ]
    }
   ],
   "execution_count": 23
  },
  {
   "metadata": {
    "ExecuteTime": {
     "end_time": "2025-05-26T06:56:27.191291Z",
     "start_time": "2025-05-26T06:56:27.187537Z"
    }
   },
   "cell_type": "code",
   "source": [
    "# [문제 3: 특정 사용자의 최근 행동 조회]\n",
    "# 사용자 ID가 1인 사용자의 최근 행동 5개를 시간 순으로 정렬하여 조회하는 MongoDB 쿼리를 함수로 만들어 문제를 해결\n",
    "def action_find():\n",
    "    collection=db['user_actions']\n",
    "    query={\"user_id\":1}\n",
    "    for doc in collection.find(query).sort(\"timestamp\",1).limit(5):\n",
    "        print(doc)\n",
    "\n",
    "action_find()"
   ],
   "id": "ab5cc1179e8017f3",
   "outputs": [
    {
     "name": "stdout",
     "output_type": "stream",
     "text": [
      "{'_id': ObjectId('6833f9e8c6d3d37b106f4d59'), 'user_id': 1, 'action': 'click', 'timestamp': '2023-04-12T08:00:00Z'}\n",
      "{'_id': ObjectId('6833f9e8c6d3d37b106f4d5a'), 'user_id': 1, 'action': 'view', 'timestamp': '2023-04-12T09:00:00Z'}\n"
     ]
    }
   ],
   "execution_count": 19
  },
  {
   "metadata": {
    "ExecuteTime": {
     "end_time": "2025-05-26T07:07:36.564469Z",
     "start_time": "2025-05-26T07:07:36.560621Z"
    }
   },
   "cell_type": "code",
   "source": [
    "# [문제 4: 출판 연도별 책의 수 계산]\n",
    "# 각 출판 연도별로 출판된 책의 수를 계산하고, 출판된 책의 수가 많은 순서대로 정렬하는 MongoDB 쿼리를 함수로 만들어 문제를 해결\n",
    "\n",
    "def book_year():\n",
    "    collection=db['books']\n",
    "    group={\"$group\":{\"_id\":\"$year\",\"total\":{\"$sum\":1}}}\n",
    "    for doc in collection.aggregate([group,{\"$sort\":{\"total\":-1}}]):\n",
    "        print(doc)\n",
    "\n",
    "book_year()"
   ],
   "id": "18f1f9a6609f6132",
   "outputs": [
    {
     "name": "stdout",
     "output_type": "stream",
     "text": [
      "{'_id': 2002, 'total': 1}\n",
      "{'_id': 1987, 'total': 1}\n",
      "{'_id': 2009, 'total': 1}\n"
     ]
    }
   ],
   "execution_count": 24
  },
  {
   "metadata": {
    "ExecuteTime": {
     "end_time": "2025-05-26T07:11:31.768160Z",
     "start_time": "2025-05-26T07:11:31.762565Z"
    }
   },
   "cell_type": "code",
   "source": [
    "# [문제 5: 특정 사용자의 행동 유형 업데이트]\n",
    "# 사용자 ID가 1인 사용자의 2023년 4월 10일 이전의 \"view\" 행동을 \"seen\"으로 변경하는 MongoDB 업데이트 쿼리를 함수로 만들어 문제를 해결\n",
    "def action_update():\n",
    "    collection=db['user_actions']\n",
    "    query={\"user_id\":1,\"timestamp\":{\"$lt\":\"2023-04-10\"}}\n",
    "    update={\"$set\":{\"action\":\"seen\"}}\n",
    "    collection.update_many(query,update)\n",
    "\n",
    "action_update() #4월 10일 이전의 기록이 없음\n",
    "collection=db['user_actions']\n",
    "for doc in collection.find():\n",
    "    print(doc)"
   ],
   "id": "b8838a1d8d480648",
   "outputs": [
    {
     "name": "stdout",
     "output_type": "stream",
     "text": [
      "{'_id': ObjectId('6833f9e8c6d3d37b106f4d59'), 'user_id': 1, 'action': 'click', 'timestamp': '2023-04-12T08:00:00Z'}\n",
      "{'_id': ObjectId('6833f9e8c6d3d37b106f4d5a'), 'user_id': 1, 'action': 'view', 'timestamp': '2023-04-12T09:00:00Z'}\n",
      "{'_id': ObjectId('6833f9e8c6d3d37b106f4d5b'), 'user_id': 2, 'action': 'purchase', 'timestamp': '2023-04-12T10:00:00Z'}\n"
     ]
    }
   ],
   "execution_count": 25
  }
 ],
 "metadata": {
  "kernelspec": {
   "display_name": "Python 3",
   "language": "python",
   "name": "python3"
  },
  "language_info": {
   "codemirror_mode": {
    "name": "ipython",
    "version": 2
   },
   "file_extension": ".py",
   "mimetype": "text/x-python",
   "name": "python",
   "nbconvert_exporter": "python",
   "pygments_lexer": "ipython2",
   "version": "2.7.6"
  }
 },
 "nbformat": 4,
 "nbformat_minor": 5
}
