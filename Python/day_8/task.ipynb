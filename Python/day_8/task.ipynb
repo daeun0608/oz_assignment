{
 "cells": [
  {
   "cell_type": "markdown",
   "metadata": {},
   "source": [
    "[문제 1]\n",
    "\n",
    "'Person'이라는 클래스를 선언하세요. 이 클래스는 name (이름)과 age (나이) 두 개의 속성을 갖습니다.<br>\n",
    "\n",
    "그리고 'greet'라는 메소드를 갖고 있으며, 이 메소드는 \"안녕하세요, 제 이름은 [name]입니다. \n",
    "\n",
    "나이는 [age]살입니다.\"라는 메시지를 반환합니다.<br>\n",
    "이 클래스를 사용하여 '홍길동'이라는 이름과 20살의 나이를 가진 'Person' 객체를 생성하고, 'greet' 메소드를 호출하여 메시지를 출력하세요."
   ]
  },
  {
   "metadata": {
    "ExecuteTime": {
     "end_time": "2025-04-29T07:20:10.871399Z",
     "start_time": "2025-04-29T07:20:10.868417Z"
    }
   },
   "cell_type": "code",
   "source": [
    "class Person:\n",
    "    def __init__(self, name, age):\n",
    "        self.name=name\n",
    "        self.age=age\n",
    "    def greet(self):\n",
    "        return f'안녕하세요, 제 이름은 {self.name}입니다.\\n나이는 {self.age}살입니다.'\n",
    "\n",
    "p1=Person('홍길동',20)\n",
    "print(p1.greet())"
   ],
   "outputs": [
    {
     "name": "stdout",
     "output_type": "stream",
     "text": [
      "안녕하세요, 제 이름은 홍길동입니다.\n",
      "나이는 20살입니다.\n"
     ]
    }
   ],
   "execution_count": 2
  },
  {
   "cell_type": "markdown",
   "metadata": {},
   "source": [
    "[문제 2]\n",
    "\n",
    "'Rectangle' 클래스를 작성하세요.\n",
    "\n",
    "이 클래스는 높이(height)와 너비(width)를 속성으로 가지며, 생성자(__init__)를 통해 이 두 속성을 초기화합니다.\n",
    "\n",
    "'area' 메소드를 추가하여 사각형의 면적을 계산하고 반환하도록 하세요. 높이가 10, 너비가 5인 사각형 객체를 생성하고,<br>\n",
    "이 객체를 사용하여 면적을 계산해 출력하세요."
   ]
  },
  {
   "metadata": {
    "ExecuteTime": {
     "end_time": "2025-04-29T07:27:03.384508Z",
     "start_time": "2025-04-29T07:27:03.382032Z"
    }
   },
   "cell_type": "code",
   "source": [
    "class Rectangle:\n",
    "    def __init__(self, height, width):\n",
    "        self.height=height\n",
    "        self.width=width\n",
    "    def area(self):\n",
    "        return self.height*self.width\n",
    "\n",
    "r1=Rectangle(10,5)\n",
    "print(r1.area())"
   ],
   "outputs": [
    {
     "name": "stdout",
     "output_type": "stream",
     "text": [
      "50\n"
     ]
    }
   ],
   "execution_count": 3
  },
  {
   "metadata": {},
   "cell_type": "markdown",
   "source": [
    "[문제 3]\n",
    "\n",
    "'Book' 클래스를 선언하세요.\n",
    "\n",
    "이 클래스는 title (제목)과 author (저자) 두 개의 속성을 갖습니다.\n",
    "\n",
    "__str__ 특수 메소드를 오버라이드하여, 객체를 문자열로 변환할 때 \"제목: [title], 저자: [author]\" 형식의 문자열을 반환하도록 하세요.\n",
    "\n",
    "'Book' 객체를 하나 생성하고, print 함수를 사용하여 해당 객체의 문자열 표현을 출력하세요."
   ]
  },
  {
   "metadata": {
    "ExecuteTime": {
     "end_time": "2025-04-29T07:35:19.932405Z",
     "start_time": "2025-04-29T07:35:19.929673Z"
    }
   },
   "cell_type": "code",
   "source": [
    "class Book:\n",
    "    def __init__(self, title, author):\n",
    "        self.title=title\n",
    "        self.author=author\n",
    "    def __str__(self):\n",
    "        return f\"제목: [{self.title}], 저자: [{self.author}]\"\n",
    "\n",
    "b1=Book('모두의 딥러닝','조태호')\n",
    "print(str(b1))"
   ],
   "outputs": [
    {
     "name": "stdout",
     "output_type": "stream",
     "text": [
      "제목: [모두의 딥러닝], 저자: [조태호]\n"
     ]
    }
   ],
   "execution_count": 8
  },
  {
   "metadata": {},
   "cell_type": "markdown",
   "source": [
    "[문제 4]\n",
    "\n",
    "'Employee' 클래스를 선언하세요.\n",
    "\n",
    "이 클래스는 월급인상률을 의미하는 클래스 변수로 'raise_amount'를 갖고 있으며, 기본값은 1.04입니다. 다음 급여는 기본 급여에 월급인상률을 곱한 값으로 결정합니다.\n",
    "\n",
    "또한, 각 직원의 이름(name)과 급여(salary)를 속성으로 가지며, 'apply_raise' 메소드를 통해 급여에 'raise_amount'를 적용할 수 있어야 합니다.\n",
    "\n",
    "'Employee' 클래스의 객체 두 개를 생성하고, 한 객체에만 'raise_amount'를 변경한 후, 두 객체의 급여를 증가시켜보세요.<br>\n",
    "그리고 각 객체의 새로운 급여를 출력하세요."
   ]
  },
  {
   "metadata": {
    "ExecuteTime": {
     "end_time": "2025-04-29T07:50:34.348158Z",
     "start_time": "2025-04-29T07:50:34.345052Z"
    }
   },
   "cell_type": "code",
   "source": [
    "class Employee:\n",
    "    def __init__(self, name, salary, raise_amount=1.04):\n",
    "        self.name=name\n",
    "        self.salary=salary\n",
    "        self.raise_amount=raise_amount\n",
    "    def apply_raise(self):\n",
    "        self.salary*=self.raise_amount\n",
    "\n",
    "e1=Employee('김씨',200)\n",
    "e2=Employee('박씨',200,1.5)\n",
    "e1.apply_raise()\n",
    "e2.apply_raise()\n",
    "print('김씨의 다음 급여 :',e1.salary)\n",
    "print('박씨의 다음 급여 :',e2.salary)"
   ],
   "outputs": [
    {
     "name": "stdout",
     "output_type": "stream",
     "text": [
      "김씨의 다음 급여 : 208.0\n",
      "박씨의 다음 급여 : 300.0\n"
     ]
    }
   ],
   "execution_count": 9
  },
  {
   "metadata": {},
   "cell_type": "markdown",
   "source": [
    "[문제 5]\n",
    "\n",
    "'Account' 클래스를 작성하세요.\n",
    "\n",
    "이 클래스는 소유자(owner)와 잔액(balance)을 속성으로 가지며, 잔액은 프라이빗 변수로 선언합니다.\n",
    "\n",
    "'deposit'와 'withdraw' 두 개의 메소드를 통해 잔액을 조작할 수 있도록 하세요.\n",
    "\n",
    "이 때, 잔액은 음수가 될 수 없도록 체크해야 합니다. 'Account' 객체를 생성하고,<br>\n",
    "입금 및 출금 작업을 시뮬레이션한 후, 최종 잔액을 출력하세요."
   ]
  },
  {
   "metadata": {
    "ExecuteTime": {
     "end_time": "2025-04-29T08:55:37.632847Z",
     "start_time": "2025-04-29T08:55:37.630069Z"
    }
   },
   "cell_type": "code",
   "source": [
    "class Account:\n",
    "    def __init__(self, owner, balance):\n",
    "        self.owner=owner\n",
    "        self.__balance=balance\n",
    "    def deposit(self, money):\n",
    "        self.__balance+=money\n",
    "        print('예금 :',money)\n",
    "        print('잔액 :',self.__balance)\n",
    "    def withdraw(self, money):\n",
    "        if self.__balance<money:\n",
    "            print('잔액 부족, 출금을 취소합니다.')\n",
    "        else:\n",
    "            self.__balance-=money\n",
    "            print('출금 :',money)\n",
    "            print('잔액 :',self.__balance)\n",
    "\n",
    "a1=Account('다은',200)\n",
    "a1.deposit(100)\n",
    "a1.withdraw(400)\n",
    "a1.withdraw(100)"
   ],
   "outputs": [
    {
     "name": "stdout",
     "output_type": "stream",
     "text": [
      "예금 : 100\n",
      "잔액 : 300\n",
      "잔액 부족, 출금을 취소합니다.\n",
      "출금 : 100\n",
      "잔액 : 200\n"
     ]
    }
   ],
   "execution_count": 11
  },
  {
   "metadata": {},
   "cell_type": "markdown",
   "source": [
    "[문제 6]\n",
    "\n",
    "'Vehicle'이라는 기본 클래스를 선언하세요.\n",
    "\n",
    "이 클래스는 make (제조사)와 model (모델명) 두 개의 속성을 갖고, 생성자(__init__)를 통해 이 두 속성을 초기화합니다. 'display_info'라는 메소드를 추가하여, \"이 차량은 [make]에서 제조한 [model]입니다.\"라는 메시지를 반환하도록 하세요.\n",
    "\n",
    "'Truck'과 'Car' 두 개의 하위 클래스를 생성하고, 각 클래스는 'Vehicle' 클래스로부터 상속받습니다.\n",
    "\n",
    "'Truck' 클래스에는 추가로 'payload' (적재량) 속성을, 'Car' 클래스에는 'seats' (좌석 수) 속성을 추가합니다. 각각의 하위 클래스에서 'display_info' 메소드는 기본 클래스의 메소드를 그대로 사용합니다.\n",
    "\n",
    "'Truck'과 'Car' 객체 각각을 생성하고, 'display_info' 메소드를 호출하여 정보를 출력하세요.\n",
    "\n",
    "또한, 각 객체의 추가 속성(적재량, 좌석 수)에 대한 정보도 출력하세요.\n",
    "\n",
    "이 문제는 클래스의 상속 개념을 이해하고, 기본 클래스의 속성과 메소드를 하위 클래스가 어떻게 활용할 수 있는지 보여줍니다.\n",
    "\n",
    "오버라이드는 필요하지 않으며, 각 하위 클래스의 고유한 속성을 추가하는 방법에 초점을 맞춥니다."
   ]
  },
  {
   "metadata": {
    "ExecuteTime": {
     "end_time": "2025-04-29T09:08:23.620837Z",
     "start_time": "2025-04-29T09:08:23.617304Z"
    }
   },
   "cell_type": "code",
   "source": [
    "class Vehicle:\n",
    "    def __init__(self, make, model):\n",
    "        self.make=make      #제조사\n",
    "        self.model=model    #모델명\n",
    "\n",
    "    def display_info(self):\n",
    "        return f'이 차량은 {self.make}에서 제조한 {self.model}입니다.'\n",
    "\n",
    "class Truck(Vehicle):\n",
    "    def __init__(self, make, model, payload):\n",
    "        super().__init__(make, model)\n",
    "        self.payload=payload    #적재량\n",
    "\n",
    "class Car(Vehicle):\n",
    "    def __init__(self, make, model, seats):\n",
    "        super().__init__(make, model)\n",
    "        self.seats=seats    #좌석 수\n",
    "\n",
    "truck=Truck('A','mA',500)\n",
    "car=Car('B','mB',4)\n",
    "print(truck.display_info())\n",
    "print(f'{truck.model}의 적재량은 {truck.payload}입니다.')\n",
    "print(car.display_info())\n",
    "print(f'{car.model}의 좌석 수는 {car.seats}입니다.')"
   ],
   "outputs": [
    {
     "name": "stdout",
     "output_type": "stream",
     "text": [
      "이 차량은 A에서 제조한 mA입니다.\n",
      "mA의 적재량은 500입니다.\n",
      "이 차량은 B에서 제조한 mB입니다.\n",
      "mB의 좌석 수는 4입니다.\n"
     ]
    }
   ],
   "execution_count": 12
  }
 ],
 "metadata": {
  "language_info": {
   "name": "python"
  }
 },
 "nbformat": 4,
 "nbformat_minor": 2
}
