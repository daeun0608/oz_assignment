{
 "cells": [
  {
   "metadata": {},
   "cell_type": "markdown",
   "source": "## 함수",
   "id": "d00faee5e4e9cd0d"
  },
  {
   "metadata": {},
   "cell_type": "code",
   "outputs": [],
   "execution_count": null,
   "source": [
    "def printA():\n",
    "    print(\"A\")\n",
    "\n",
    "def printB(b):\n",
    "    print(b)\n",
    "\n",
    "a=printA()\n",
    "printB(\"B\")\n",
    "\n",
    "print(a)            #return이 없으면 None반환"
   ],
   "id": "44ab97c255643706"
  },
  {
   "metadata": {},
   "cell_type": "markdown",
   "source": "## 함수의 전역변수와 지역변수",
   "id": "cef4cd271ee9f9df"
  },
  {
   "metadata": {},
   "cell_type": "code",
   "outputs": [
    {
     "name": "stdout",
     "output_type": "stream",
     "text": [
      "100\n",
      "100\n",
      "200\n",
      "{'dict는': '전역변수여도', '지역변수로': '활용가능하다'}\n",
      "{'dict는': '얍', '지역변수로': '활용가능하다'}\n"
     ]
    }
   ],
   "execution_count": 15,
   "source": [
    "a=100\n",
    "b={'dict는':'전역변수여도','지역변수로':'활용가능하다'}\n",
    "\n",
    "def f1():\n",
    "    #a=a+3\n",
    "    print(a)    #전역변수 a를 읽기만 하면 변수 스코프 기능으로 출력화지만 할당을 하면 오류가 난다\n",
    "\n",
    "def f2():\n",
    "    global a    #함수 안에서 전역변수 a를 연동하여 전역변수에 영향을 준다\n",
    "    print(a)\n",
    "    a+=100\n",
    "\n",
    "def f3():\n",
    "    print(b)\n",
    "    b['dict는']=\"얍\"  #전역변수를 지역변수로 활용하는 것이지 global처럼 전역변수에 영향을 주지는 않는다\n",
    "\n",
    "f1()\n",
    "f2()\n",
    "print(a)\n",
    "f3()\n",
    "b['dict는']=\"얍\"\n",
    "f3()"
   ],
   "id": "d33709c412b31fdc"
  },
  {
   "metadata": {},
   "cell_type": "markdown",
   "source": "## 내부 함수",
   "id": "5b96a9aec7b8a97b"
  },
  {
   "metadata": {},
   "cell_type": "code",
   "outputs": [
    {
     "name": "stdout",
     "output_type": "stream",
     "text": [
      "out\n"
     ]
    }
   ],
   "execution_count": 19,
   "source": [
    "def out():\n",
    "    outText=\"out\"\n",
    "    def txt():\n",
    "        print(outText)\n",
    "    txt()\n",
    "out()\n",
    "#txt()      #지역함수가 존재한다"
   ],
   "id": "50b1d774364f16a4"
  },
  {
   "metadata": {},
   "cell_type": "markdown",
   "source": [
    "## 파일 입출력\n",
    "웹 > 크롤링 > 데이터베이스 > 1차 클렌징 > 출력 후 담당자에게 전달 > 2차 클렌징 > 유용한 데이터셋 > csv 데이터베이스 입력 > 인공지능 학습\n",
    "\n",
    "r : 읽기 <br>\n",
    "w : 쓰기 (주의 - 덮어쓰기)<br>\n",
    "a : 추가"
   ],
   "id": "5259c9058bdacf05"
  },
  {
   "metadata": {
    "ExecuteTime": {
     "end_time": "2025-04-22T07:09:57.115967Z",
     "start_time": "2025-04-22T07:09:57.107716Z"
    }
   },
   "cell_type": "code",
   "source": "pwd",
   "id": "a7878de53225bca2",
   "outputs": [
    {
     "data": {
      "text/plain": [
       "'/Users/daeun/Desktop/oz_assignment/Python/study'"
      ]
     },
     "execution_count": 40,
     "metadata": {},
     "output_type": "execute_result"
    }
   ],
   "execution_count": 40
  },
  {
   "metadata": {
    "ExecuteTime": {
     "end_time": "2025-04-28T05:35:57.483641Z",
     "start_time": "2025-04-28T05:35:57.480606Z"
    }
   },
   "cell_type": "code",
   "source": "cd /Users/daeun/Desktop/oz_assignment/Python/study",
   "id": "fb51fb504f61a534",
   "outputs": [
    {
     "name": "stdout",
     "output_type": "stream",
     "text": [
      "/Users/daeun/Desktop/oz_assignment/Python/study\n"
     ]
    }
   ],
   "execution_count": 11
  },
  {
   "metadata": {
    "ExecuteTime": {
     "end_time": "2025-04-28T05:36:00.906833Z",
     "start_time": "2025-04-28T05:36:00.904084Z"
    }
   },
   "cell_type": "code",
   "source": [
    "f = open('day6_test.txt','w')\n",
    "f.write('test입니다!\\n')\n",
    "f.close()\n",
    "\n",
    "f = open('day6_test.txt','w')\n",
    "f.write('''개발자 여러분\n",
    "개발자 여러분\n",
    "개발자 여러분\n",
    "개발자 여러분\n",
    "개발자 여러분\n",
    "'''\n",
    ")\n",
    "f.close()"
   ],
   "id": "6ba7d27969ca378f",
   "outputs": [],
   "execution_count": 12
  },
  {
   "metadata": {
    "ExecuteTime": {
     "end_time": "2025-04-28T05:36:03.367288Z",
     "start_time": "2025-04-28T05:36:03.363693Z"
    }
   },
   "cell_type": "code",
   "source": [
    "f=open('day6_test.txt','r')\n",
    "s=f.read()\n",
    "print(s)\n",
    "f.close()\n",
    "\n",
    "f=open('day6_test.txt','r')\n",
    "s=f.readlines()             #문자열들을 리스트형태로 반환\n",
    "print(s)\n",
    "f.close()\n",
    "\n",
    "print('---------------------------')\n",
    "\n",
    "f=open('day6_test.txt','r')\n",
    "line=f.readline()\n",
    "print(line)\n",
    "f.close()\n",
    "\n",
    "print('---------------------------')\n",
    "\n",
    "f=open('day6_test.txt','r')\n",
    "while line:\n",
    "    line=f.readline()\n",
    "    print(line)\n",
    "f.close()"
   ],
   "id": "df60271ef4102817",
   "outputs": [
    {
     "name": "stdout",
     "output_type": "stream",
     "text": [
      "개발자 여러분\n",
      "개발자 여러분\n",
      "개발자 여러분\n",
      "개발자 여러분\n",
      "개발자 여러분\n",
      "\n",
      "['개발자 여러분\\n', '개발자 여러분\\n', '개발자 여러분\\n', '개발자 여러분\\n', '개발자 여러분\\n']\n",
      "---------------------------\n",
      "개발자 여러분\n",
      "\n",
      "---------------------------\n",
      "개발자 여러분\n",
      "\n",
      "개발자 여러분\n",
      "\n",
      "개발자 여러분\n",
      "\n",
      "개발자 여러분\n",
      "\n",
      "개발자 여러분\n",
      "\n",
      "\n"
     ]
    }
   ],
   "execution_count": 13
  },
  {
   "metadata": {
    "ExecuteTime": {
     "end_time": "2025-04-28T05:36:09.395589Z",
     "start_time": "2025-04-28T05:36:09.391553Z"
    }
   },
   "cell_type": "code",
   "source": [
    "f=open('day6_test.txt','a')\n",
    "f.write('힘내자!!!')\n",
    "f.close()\n",
    "\n",
    "with open('day6_test.txt','a') as f:\n",
    "    f.write('힘내자2!!!')\n",
    "\n",
    "list1=[10, 20, 30]\n",
    "with open('day6_test.txt','w') as f:\n",
    "    f.write(str(list1))\n",
    "\n",
    "with open('day6_test.txt','w') as f:\n",
    "    f.write('let test = '+str(list1))       #자바스크립트는 문법으로 받아들임\n",
    "\n",
    "list2=['40', '50', '60']\n",
    "with open('day6_test.txt','w') as f:\n",
    "    f.writelines(list2)\n",
    "\n",
    "with open('day6_test2.csv','w') as f:\n",
    "    f.write(','.join(list2))"
   ],
   "id": "665e39c65c1eb80b",
   "outputs": [],
   "execution_count": 14
  }
 ],
 "metadata": {
  "kernelspec": {
   "display_name": "Python 3",
   "language": "python",
   "name": "python3"
  },
  "language_info": {
   "codemirror_mode": {
    "name": "ipython",
    "version": 2
   },
   "file_extension": ".py",
   "mimetype": "text/x-python",
   "name": "python",
   "nbconvert_exporter": "python",
   "pygments_lexer": "ipython2",
   "version": "2.7.6"
  }
 },
 "nbformat": 4,
 "nbformat_minor": 5
}
