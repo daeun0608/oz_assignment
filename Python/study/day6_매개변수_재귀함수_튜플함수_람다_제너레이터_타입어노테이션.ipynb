{
 "cells": [
  {
   "metadata": {},
   "cell_type": "markdown",
   "source": [
    "## 함수\n",
    "1. 함수의 기본 구조에 대해 설명해보세요\n",
    "```\n",
    "def 함수이름():\n",
    "    코드\n",
    "```\n",
    "2. 함수 호출은 무엇을 의미하고 어떻게 할 수 있나요?\n",
    "    - 함수 호출은 함수를 실행하는 것을 의미하고 '함수이름()'으로 호출할 수 있다.\n",
    "3. 매개변수란 무엇인가요?\n",
    "    - 값을 받을 수 있는 함수가 ()안에 받는 값을 매개변수라고 합니다.\n",
    "4. 식별자는 무엇이고 사용하는 이유는 뭔가요?\n",
    "    - 매개변수들을 담는 변수들의 이름을 식별자라고 부르고 입력되는 매개변수들을 구분하기 위해서 사용합니다.\n",
    "5. 식별자는 함수 안에서 어떻게 사용되나요?\n",
    "    - 함수안에서 지역변수로 사용됩니다.\n",
    "\n",
    "## 함수 개별 정보\n",
    "- 함수의 리턴이 없으면 None을 반환한다."
   ],
   "id": "2ee0b99205c0c0ca"
  },
  {
   "metadata": {},
   "cell_type": "markdown",
   "source": [
    "### 가변 매개변수\n",
    "1. 가변 매개 변수를 사용하는 이유\n",
    "    - 보통 함수를 정의할 때 사용되는 매개변수와 호출 시 입력되는 매개변수의 개수는 동일 해야 오류가 나지 않는데 더 많은 값(무한정 가능)을 받고 싶을 경우 사용한다.\n",
    "2. 가변 매개 변수를 사용하기 위한 문법\n",
    "```\n",
    "def 함수이름(매개변수, *가변 매개변수):\n",
    "    코드\n",
    "```\n",
    "3. 가변 매겨 변수를 사용하기 위한 제약조건\n",
    "    - 가변 매개변수 뒤에는 일반 매개변수가 올 수 없다.\n",
    "    - 가변 매개변수는 하나만 사용 가능하다"
   ],
   "id": "ba4328b07812fd82"
  },
  {
   "metadata": {
    "ExecuteTime": {
     "end_time": "2025-04-24T00:44:16.154924Z",
     "start_time": "2025-04-24T00:44:16.150608Z"
    }
   },
   "cell_type": "code",
   "source": [
    "def oz(n,*values):\n",
    "    for i in range(n):\n",
    "        for value in values:\n",
    "            print(value)\n",
    "\n",
    "oz(2,'하나','둘','셋')"
   ],
   "id": "2d196b7df7efb09c",
   "outputs": [
    {
     "name": "stdout",
     "output_type": "stream",
     "text": [
      "하나\n",
      "둘\n",
      "셋\n",
      "하나\n",
      "둘\n",
      "셋\n"
     ]
    }
   ],
   "execution_count": 23
  },
  {
   "metadata": {},
   "cell_type": "markdown",
   "source": [
    "## 기본 매개변수\n",
    "1. 기본 매개 변수의 역할\n",
    "    - 매개변수가 입력되지 않아도 기본값으로 설정되는 것으로 원하는 요소의 값을 특정값으로 설정하는 역할을 한다.\n",
    "2. 기본 매개 변수를 사용하기 위한 문법\n",
    "```\n",
    "def 함수이름(매개변수, 식별자=기본값):\n",
    "    코드\n",
    "```\n",
    "3. 기본 매겨 변수를 사용하기 위한 제약조건\n",
    "    - 기본 매개변수 뒤에는 일반 매개변수가 올 수 없다."
   ],
   "id": "2684116daad4a1c7"
  },
  {
   "metadata": {
    "ExecuteTime": {
     "end_time": "2025-04-23T04:19:16.992348Z",
     "start_time": "2025-04-23T04:19:16.989514Z"
    }
   },
   "cell_type": "code",
   "source": [
    "def oz(value,n=2):\n",
    "    for i in range(n):\n",
    "        print(value)\n",
    "\n",
    "oz(\"얍\",3)\n",
    "oz(\"이얍\")"
   ],
   "id": "49318cbf07ae97b3",
   "outputs": [
    {
     "name": "stdout",
     "output_type": "stream",
     "text": [
      "얍\n",
      "얍\n",
      "얍\n",
      "이얍\n",
      "이얍\n"
     ]
    }
   ],
   "execution_count": 3
  },
  {
   "metadata": {},
   "cell_type": "markdown",
   "source": [
    "## 키워드 매개변수\n",
    "- 가변 매개변수와 기본 매개변수가 같이 쓰일 때<br>\n",
    "    가변이 먼저쓰이거나 기본 매개변수가 많으면 호출할 때 값을 넣어 호출할 수 없고<br>\n",
    "    기본이 먼저쓰이면 기본을 필수적으로 입력해야 해서 기본 매개변수를 사용하는 이유가 사라진다.\n",
    "- 다른 매개변수와 달리 정의할 때가 아닌 함수를 호출할 때, 매개변수의 이름을 명시해서 값 전달하는 방식\n",
    "\n",
    "1. 키워드 매개변수를 사용하는 이유\n",
    "    - 가변 매개변수와 기본 매개변수를 같이 쓸 수도 있고 순서에 상관없이 값을 줄 수 있어서 가독성이 좋고 실수 방지됨\n",
    "2. 키워드 매개변수를 사용하기 위한 문법\n",
    "```\n",
    "함수명(식별자1=값, 식별자2=값)     #식별자가 일반인지 기본인지 신경쓰지않고 이름만 맞다면 위치도 관계없다\n",
    "oz(x=1, y=2)\n",
    "```"
   ],
   "id": "a7f122d726d11a03"
  },
  {
   "metadata": {
    "ExecuteTime": {
     "end_time": "2025-04-24T01:38:08.929693Z",
     "start_time": "2025-04-24T01:38:08.907822Z"
    }
   },
   "cell_type": "code",
   "source": [
    "def print_info(name, age, gender):\n",
    "    print(name, age, gender)\n",
    "print_info('마루코',9,'여자')\n",
    "\n",
    "def print_info(*,name, age, gender):    # '*'뒤는 키워드 매개변수로 로만 입력할 수 있다\n",
    "    print(name, age, gender)\n",
    "print_info('마루코',9,'여자')"
   ],
   "id": "836189fb86f07391",
   "outputs": [
    {
     "name": "stdout",
     "output_type": "stream",
     "text": [
      "마루코 9 여자\n"
     ]
    },
    {
     "ename": "TypeError",
     "evalue": "print_info() takes 0 positional arguments but 3 were given",
     "output_type": "error",
     "traceback": [
      "\u001B[31m---------------------------------------------------------------------------\u001B[39m",
      "\u001B[31mTypeError\u001B[39m                                 Traceback (most recent call last)",
      "\u001B[36mCell\u001B[39m\u001B[36m \u001B[39m\u001B[32mIn[24]\u001B[39m\u001B[32m, line 7\u001B[39m\n\u001B[32m      5\u001B[39m \u001B[38;5;28;01mdef\u001B[39;00m\u001B[38;5;250m \u001B[39m\u001B[34mprint_info\u001B[39m(*,name, age, gender):    \u001B[38;5;66;03m# '*'뒤는 키워드 매개변수로 로만 입력할 수 있다\u001B[39;00m\n\u001B[32m      6\u001B[39m     \u001B[38;5;28mprint\u001B[39m(name, age, gender)\n\u001B[32m----> \u001B[39m\u001B[32m7\u001B[39m \u001B[43mprint_info\u001B[49m\u001B[43m(\u001B[49m\u001B[33;43m'\u001B[39;49m\u001B[33;43m마루코\u001B[39;49m\u001B[33;43m'\u001B[39;49m\u001B[43m,\u001B[49m\u001B[32;43m9\u001B[39;49m\u001B[43m,\u001B[49m\u001B[33;43m'\u001B[39;49m\u001B[33;43m여자\u001B[39;49m\u001B[33;43m'\u001B[39;49m\u001B[43m)\u001B[49m\n",
      "\u001B[31mTypeError\u001B[39m: print_info() takes 0 positional arguments but 3 were given"
     ]
    }
   ],
   "execution_count": 24
  },
  {
   "metadata": {},
   "cell_type": "markdown",
   "source": [
    "## 재귀함수\n",
    "1. 재귀함수에 대한 설명과 장단점\n",
    "2. 재귀함수 사용 시 발생할 수 있는 단점과 해결방법\n",
    "3. 메모리제이션이란?<br>\n",
    "재귀함수 : 함수 안에 자신의 함술르 다시 호출하는 함수<br>\n",
    "장점 : for문이나 While문 대신 사용되기 대문에 코드가 간결해지고 불필요한 변수를 만들지 않아도 되는 장점이 있습니다.<br>\n",
    "단점\n",
    "   - Stack overflow가 발생할 수 있다(무한로딩) -> 꼬리 재귀로 문재해결\n",
    "   - 지속적인 함수 호출로 인해 과도한 메모리 사용과 속도 저하 -> 메모리제이션으로 문제해결\n",
    "      - 메모리제이션<br>컴퓨터 프로그램이 동일한 계산을 반복적으로 해야 할때, 이전에 계산한 값을 메모리에 저장하여 중복적인 계산을 제거하여 전체적인 실행 속도를 빠르게 해주는 기법으로 동적 계획법(DP)의 핵심이 되는 기술"
   ],
   "id": "6034cba7271be7b9"
  },
  {
   "metadata": {},
   "cell_type": "code",
   "outputs": [],
   "execution_count": null,
   "source": [
    "#반복문\n",
    "def oz_factorial(n):\n",
    "    output = 1\n",
    "    for i in range(1,n+1):\n",
    "        output *= i\n",
    "    return output\n",
    "\n",
    "#재귀함수\n",
    "def oz_factorial(n):\n",
    "    if n == 0:\n",
    "        return 1\n",
    "    else:\n",
    "        return n * oz_factorial(n-1)"
   ],
   "id": "782024116b4f2812"
  },
  {
   "metadata": {
    "ExecuteTime": {
     "end_time": "2025-04-23T07:35:20.597003Z",
     "start_time": "2025-04-23T07:35:20.593782Z"
    }
   },
   "cell_type": "code",
   "source": [
    "#피보나치 수열 : 첫째 및 둘째 항이 1이며 그 뒤에 모든 항은 바로 앞 두항의 합인 수열\n",
    "memo={      #메모리제이션\n",
    "    1:1,\n",
    "    2:1\n",
    "}\n",
    "count=0\n",
    "\n",
    "def oz_fibo(n):\n",
    "    print(f'피보나치 수열 {n}을 구하는 중입니다')\n",
    "    global count\n",
    "    count+=1\n",
    "\n",
    "    if n in memo:\n",
    "        return memo[n]\n",
    "\n",
    "    output=oz_fibo(n-1) + oz_fibo(n-2)\n",
    "    memo[n]=output\n",
    "    return output\n",
    "\n",
    "oz_fibo(10)  #10을 입력하면 함수를 109번 -> (메모리제이션)17번\n",
    "print(f'계산된 횟수 {count}')"
   ],
   "id": "f4783f2c0f4f2a6f",
   "outputs": [
    {
     "name": "stdout",
     "output_type": "stream",
     "text": [
      "피보나치 수열 10을 구하는 중입니다\n",
      "피보나치 수열 9을 구하는 중입니다\n",
      "피보나치 수열 8을 구하는 중입니다\n",
      "피보나치 수열 7을 구하는 중입니다\n",
      "피보나치 수열 6을 구하는 중입니다\n",
      "피보나치 수열 5을 구하는 중입니다\n",
      "피보나치 수열 4을 구하는 중입니다\n",
      "피보나치 수열 3을 구하는 중입니다\n",
      "피보나치 수열 2을 구하는 중입니다\n",
      "피보나치 수열 1을 구하는 중입니다\n",
      "피보나치 수열 2을 구하는 중입니다\n",
      "피보나치 수열 3을 구하는 중입니다\n",
      "피보나치 수열 4을 구하는 중입니다\n",
      "피보나치 수열 5을 구하는 중입니다\n",
      "피보나치 수열 6을 구하는 중입니다\n",
      "피보나치 수열 7을 구하는 중입니다\n",
      "피보나치 수열 8을 구하는 중입니다\n",
      "계산된 횟수 17\n"
     ]
    }
   ],
   "execution_count": 8
  },
  {
   "metadata": {},
   "cell_type": "markdown",
   "source": [
    "## 튜플을 이용한 함수\n",
    "1. 튜플의 특징 : 추가, 삭제, 변경을 할 수 없어서 보안적으로 관리하기 좋다.\n",
    "2. 괄호없이 여러개의 값을 할당하는 코드 작성법\n",
    "```a, b = 1, 2```"
   ],
   "id": "3e9df699cf82667c"
  },
  {
   "metadata": {
    "ExecuteTime": {
     "end_time": "2025-04-23T13:11:57.672405Z",
     "start_time": "2025-04-23T13:11:57.668772Z"
    }
   },
   "cell_type": "code",
   "source": [
    "#튜플이 여러변수에 언패킹 되는 것(x,y=1,2)을 이용해 여러 값을 리턴할 수 있다.\n",
    "def oz_tuple():\n",
    "    return (1,2)\n",
    "\n",
    "x,y=oz_tuple()\n",
    "\n",
    "#튜플을 이용한 내장함수\n",
    "#enumerate() : 리스트 값에 맞추어 인덱스를 붙여 튜플 반환한다(괄호가 안보이지만 튜플!)\n",
    "for i, fruit in enumerate([1,2,3,4]):\n",
    "    print(i,fruit)\n",
    "\n",
    "#divmode() : 몫과 나머지를 튜플로 반환\n",
    "a, b = 7, 3\n",
    "x, y = divmod(a, b)\n",
    "print(x, y)"
   ],
   "id": "26f63a10a238e11b",
   "outputs": [
    {
     "name": "stdout",
     "output_type": "stream",
     "text": [
      "0 1\n",
      "1 2\n",
      "2 3\n",
      "3 4\n",
      "2 1\n"
     ]
    }
   ],
   "execution_count": 4
  },
  {
   "metadata": {},
   "cell_type": "markdown",
   "source": [
    "콜백 함수 : 함수의 매개변수로 사용되는 함수\n",
    "\n",
    "1. 함수를 매개변수로 사용하는 대표적인 내장함수 map(), filter() 기능\n",
    "    - map() : 리스트의 요소를 함수에 넣고 리턴된 값으로 새로운 리스트를 구성\n",
    "    - filter() : 리스트의 요소를 함수에 넣고 리턴된 값이 True인 값만을 새로운 리스트로 구성\n",
    "2. lambda를 사용하는 이유\n",
    "    - lambda : 간단한 함수를 쉽게 선언하는 방법으로 이름이 없는 익명함수를 만든다. (많은 함수가 있는 프로그램에서 간단한 함수를 대체해 코드를 간결하게 만든다)\n",
    "3. lambda를 이용해 함수를 만드는 방법\n",
    "```함수변수=lambda 매개변수 : 리턴값```"
   ],
   "id": "a304b6c896706e52"
  },
  {
   "metadata": {
    "ExecuteTime": {
     "end_time": "2025-04-23T23:40:26.770374Z",
     "start_time": "2025-04-23T23:40:26.766286Z"
    }
   },
   "cell_type": "code",
   "source": [
    "#콜백함수\n",
    "def oz_call(function):\n",
    "    for i in range(5):\n",
    "        function()\n",
    "\n",
    "def talk():\n",
    "    print('talk talk')\n",
    "\n",
    "oz_call(talk)   #함수지만 ()를 안씀!!"
   ],
   "id": "8d66c55327f25c34",
   "outputs": [
    {
     "name": "stdout",
     "output_type": "stream",
     "text": [
      "talk talk\n",
      "talk talk\n",
      "talk talk\n",
      "talk talk\n",
      "talk talk\n"
     ]
    }
   ],
   "execution_count": 10
  },
  {
   "metadata": {
    "ExecuteTime": {
     "end_time": "2025-04-23T23:56:19.386784Z",
     "start_time": "2025-04-23T23:56:19.382890Z"
    }
   },
   "cell_type": "code",
   "source": [
    "#map, filter\n",
    "def square(i):\n",
    "    return i*i\n",
    "def under(i):\n",
    "    return i<3\n",
    "num=[1,2,3,4,5]\n",
    "\n",
    "result_map=map(square,num)\n",
    "result_filter=filter(under,num)\n",
    "\n",
    "print(result_map)               #제너레이터\n",
    "print(result_filter)\n",
    "\n",
    "print(list(result_map))\n",
    "print(list(result_filter))\n",
    "\n",
    "#lambda\n",
    "#lambda_square=lambda i : i*i           #함수를 square변수에 담아서 보관할 수 있음\n",
    "#result=map(lambda_square,num)\n",
    "result=map(lambda i : i*i, num)\n",
    "print(result)\n",
    "print(list(result))"
   ],
   "id": "fad4fe63b84abca2",
   "outputs": [
    {
     "name": "stdout",
     "output_type": "stream",
     "text": [
      "<map object at 0x10491c400>\n",
      "<filter object at 0x10491e1d0>\n",
      "[1, 4, 9, 16, 25]\n",
      "[1, 2]\n",
      "<map object at 0x10491db70>\n",
      "[1, 4, 9, 16, 25]\n"
     ]
    }
   ],
   "execution_count": 17
  },
  {
   "metadata": {},
   "cell_type": "markdown",
   "source": [
    "1. 이터레이터와 제너레이터란?\n",
    "2. 제너레이터 만드는 방법\n",
    "3. 제너레이터 함수를 실행하는 방법\n",
    "- 제너레이터 : 이터레이터를 생성하는 객체\n",
    "    - 이터레이터 : 순서대로 다음 값을 리턴할 수 있는 객체로 자체적으로 내장하고 있는 next 메소드로 다음 값을 가져온다\n",
    "    - yield 키워드 : 어떤 동작을 하지 않더라도 제너레이터로 인식하게 함\n",
    "    - 제너레이터가 되면 호출해도 내부 코드가 작동하지 않음"
   ],
   "id": "b059fdddbc5de99"
  },
  {
   "metadata": {
    "ExecuteTime": {
     "end_time": "2025-04-24T01:51:28.661893Z",
     "start_time": "2025-04-24T01:51:28.658355Z"
    }
   },
   "cell_type": "code",
   "source": [
    "def jTest():\n",
    "    print('j1')\n",
    "    yield 1\n",
    "    print('j2')\n",
    "    yield 2\n",
    "    print('j3')\n",
    "    yield 3\n",
    "\n",
    "print(jTest())\n",
    "\n",
    "print('next해보기, next는 다음 yield까지 함수 진행')\n",
    "func=jTest()\n",
    "next(func)\n",
    "next(func)\n",
    "\n",
    "print('next하면 yield 뒤의 값을 리턴받는다.')\n",
    "output=next(func)\n",
    "print(output)\n",
    "\n",
    "print('for로 순회하기')\n",
    "for i in jTest():\n",
    "    print(i)"
   ],
   "id": "5688a92ffd2f7936",
   "outputs": [
    {
     "name": "stdout",
     "output_type": "stream",
     "text": [
      "<generator object jTest at 0x104926440>\n",
      "next해보기, next는 다음 yield까지 함수 진행\n",
      "j1\n",
      "j2\n",
      "next하면 yield 뒤의 값을 리턴받는다.\n",
      "j3\n",
      "3\n",
      "for로 순회하기\n",
      "j1\n",
      "1\n",
      "j2\n",
      "2\n",
      "j3\n",
      "3\n"
     ]
    }
   ],
   "execution_count": 26
  },
  {
   "metadata": {},
   "cell_type": "markdown",
   "source": [
    "- 동적 프로그래밍 언어인 파이썬은 인터프리터가 코드를 실행하면서 타입을 추론한다.\n",
    "- 그리고 파이썬은 변수의 타입이 고정되어 있지 않어 언제든 변경이 된다.\n",
    "    - 유연한 타입 처리는 다른 언어 대비 간단 명료한 코드를 작성하는데 최적화 되지만 규모가 커지면 치명적인 버그가 될 수 있어서 안정성에 영향을 줄 수 있다.\n",
    "        - 타입 힌팅 개발 프로세스 : 파이썬 코드를 작성할 대 타입에 대한 메타 정보를 제공하는 개념 ( 이전에는 주석을 사용했는데 시인성이 떨어지는 단점 )\n",
    "        - 비슷한 문제가 있는 자바스크립트는 'typescript'라는 프로그래밍 언어로 해결\n",
    "<br>\n",
    "\n",
    "- 타입 힌팅 > 타입 어노테이션 : 파이썬 코드의 타입 표시를 표준화\n",
    "    - 제약 사항을 만들거나 강요하는 것이 아님 > 오류나 경고x\n",
    "    - 협업시 읽기 수월하도록 도움을 주는 도구\n",
    "    - 팀원간의 합의와 이후에도 많은 대화가 필요한 부분으로 점진적으로 도입할 있도록 준비하는 것이 가장 중요"
   ],
   "id": "97ff8cfdfa2bdc58"
  },
  {
   "metadata": {},
   "cell_type": "code",
   "outputs": [],
   "execution_count": null,
   "source": [
    "my_dog:str ='멍멍'\n",
    "dogs:list[str]=['닥스''시바']\n",
    "dogs:dict[str, int]={'닥스':7, '시바':5}\n",
    "\n",
    "def nemo(x:int, y:int) -> int:      #반환값은 화살표로 타입 어노테이션함\n",
    "    return x*y"
   ],
   "id": "30ed3239a02a1731"
  }
 ],
 "metadata": {},
 "nbformat": 4,
 "nbformat_minor": 5
}
