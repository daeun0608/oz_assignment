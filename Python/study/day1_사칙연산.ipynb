{
 "cells": [
  {
   "cell_type": "markdown",
   "id": "5dc69083",
   "metadata": {},
   "source": [
    "- 컴파일 방식 ( 소스코드 > 컴파일러 > 목적코드 ) : 한번에 번역 (실행속도⬆️ , 번역⬇️)\n",
    "- 인터프리트 방식 ( 소스코드 > 인터프리터 ) : 한줄씩 번역 (실행속도⬇️ , 번역⬆️)\n",
    "\n",
    "- 정적 타입 언어\n",
    "    - 타입이 컴파일 시 정해져서 대규모에서 안정적으로 개발이 가능하고 실행 속도가 빠름\n",
    "    - 타입에 대한 제한으로 코드 작성 시 유연함이 떨어짐\n",
    "<br><br>\n",
    "- 동적 타입 언어\n",
    "    - 유연성이 높고 효율적임\n",
    "    - 실행 때 타입 문제를 확인할 수 있기 때문에 코드가 길고 복잡할 경우 해결이 쉽지 않음\n",
    "\n",
    "파이썬의 장점\n",
    "- 쉽고 간결한 문법\n",
    "- 다른 언어와 쉽게 연동 가능\n",
    "- 무료로 제공되는 다양한 라이브러리"
   ]
  },
  {
   "cell_type": "markdown",
   "id": "21caff1a",
   "metadata": {},
   "source": [
    "# 안녕하세요\n",
    "## 안녕하세요\n",
    "### 안녕하세요"
   ]
  },
  {
   "cell_type": "code",
   "execution_count": 1,
   "id": "9646a6ac",
   "metadata": {},
   "outputs": [
    {
     "name": "stdout",
     "output_type": "stream",
     "text": [
      "안녕하세요\n"
     ]
    }
   ],
   "source": [
    "print(\"안녕하세요\")"
   ]
  },
  {
   "cell_type": "code",
   "execution_count": 3,
   "id": "23fd4d34",
   "metadata": {},
   "outputs": [
    {
     "data": {
      "text/plain": [
       "5"
      ]
     },
     "execution_count": 3,
     "metadata": {},
     "output_type": "execute_result"
    }
   ],
   "source": [
    "# 프린트문 없이 출력하면 마지막만 출력\n",
    "2+4\n",
    "2+3"
   ]
  },
  {
   "cell_type": "code",
   "execution_count": null,
   "id": "f80b3134",
   "metadata": {},
   "outputs": [
    {
     "name": "stdout",
     "output_type": "stream",
     "text": [
      "파이썬은 들여쓰기를 코드블럭처럼 쓰고, tab은 4칸!\n"
     ]
    }
   ],
   "source": [
    "# 한 줄 주석\n",
    "\"\"\"\n",
    "여러\n",
    "줄          opthion+shift+a : 여러 줄 주석 단축키 / command+/\n",
    "주석\n",
    "\"\"\"\n",
    "print(\"파이썬은 들여쓰기를 코드블럭처럼 쓰고, tab은 4칸!\")"
   ]
  },
  {
   "cell_type": "markdown",
   "id": "d0b801c0",
   "metadata": {},
   "source": [
    "사칙연산 : + - * (/ //:몫 %:나머지)\n",
    "\n",
    "거듭제곱 : **  \n",
    "\n",
    "abs(-3) -> 절대값을 씌움"
   ]
  },
  {
   "cell_type": "code",
   "execution_count": null,
   "id": "4257138c",
   "metadata": {},
   "outputs": [
    {
     "name": "stdout",
     "output_type": "stream",
     "text": [
      "(1, 1)\n",
      "(1, 3)\n",
      "(6, 1)\n",
      "1 3\n"
     ]
    }
   ],
   "source": [
    "\"\"\"\n",
    "    내장 함수 : 자주 사용하는 기능을 미리 만들어 놓은 것\n",
    "    divmod : 몫과 나머지를 동시에 구함\n",
    "\"\"\"\n",
    "print(divmod(3,2))\n",
    "print(divmod(7,4))\n",
    "print(divmod(13,2))\n",
    "\n",
    "print(7//4, 7%4)"
   ]
  }
 ],
 "metadata": {
  "kernelspec": {
   "display_name": "Python 3",
   "language": "python",
   "name": "python3"
  },
  "language_info": {
   "codemirror_mode": {
    "name": "ipython",
    "version": 3
   },
   "file_extension": ".py",
   "mimetype": "text/x-python",
   "name": "python",
   "nbconvert_exporter": "python",
   "pygments_lexer": "ipython3",
   "version": "3.12.6"
  }
 },
 "nbformat": 4,
 "nbformat_minor": 5
}
