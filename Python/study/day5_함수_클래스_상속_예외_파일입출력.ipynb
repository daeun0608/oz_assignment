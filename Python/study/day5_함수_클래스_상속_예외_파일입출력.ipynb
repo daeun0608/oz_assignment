{
 "cells": [
  {
   "metadata": {},
   "cell_type": "markdown",
   "source": "## 함수",
   "id": "d00faee5e4e9cd0d"
  },
  {
   "metadata": {},
   "cell_type": "code",
   "outputs": [],
   "execution_count": null,
   "source": [
    "def printA():\n",
    "    print(\"A\")\n",
    "\n",
    "def printB(b):\n",
    "    print(b)\n",
    "\n",
    "a=printA()\n",
    "printB(\"B\")\n",
    "\n",
    "print(a)            #return이 없으면 None반환"
   ],
   "id": "44ab97c255643706"
  },
  {
   "metadata": {},
   "cell_type": "markdown",
   "source": "## 함수의 전역변수와 지역변수",
   "id": "cef4cd271ee9f9df"
  },
  {
   "metadata": {},
   "cell_type": "code",
   "outputs": [
    {
     "name": "stdout",
     "output_type": "stream",
     "text": [
      "100\n",
      "100\n",
      "200\n",
      "{'dict는': '전역변수여도', '지역변수로': '활용가능하다'}\n",
      "{'dict는': '얍', '지역변수로': '활용가능하다'}\n"
     ]
    }
   ],
   "execution_count": 15,
   "source": [
    "a=100\n",
    "b={'dict는':'전역변수여도','지역변수로':'활용가능하다'}\n",
    "\n",
    "def f1():\n",
    "    #a=a+3\n",
    "    print(a)    #전역변수 a를 읽기만 하면 변수 스코프 기능으로 출력화지만 할당을 하면 오류가 난다\n",
    "\n",
    "def f2():\n",
    "    global a    #함수 안에서 전역변수 a를 연동하여 전역변수에 영향을 준다\n",
    "    print(a)\n",
    "    a+=100\n",
    "\n",
    "def f3():\n",
    "    print(b)\n",
    "    b['dict는']=\"얍\"  #전역변수를 지역변수로 활용하는 것이지 global처럼 전역변수에 영향을 주지는 않는다\n",
    "\n",
    "f1()\n",
    "f2()\n",
    "print(a)\n",
    "f3()\n",
    "b['dict는']=\"얍\"\n",
    "f3()"
   ],
   "id": "d33709c412b31fdc"
  },
  {
   "metadata": {},
   "cell_type": "markdown",
   "source": "## 내부 함수",
   "id": "5b96a9aec7b8a97b"
  },
  {
   "metadata": {},
   "cell_type": "code",
   "outputs": [
    {
     "name": "stdout",
     "output_type": "stream",
     "text": [
      "out\n"
     ]
    }
   ],
   "execution_count": 19,
   "source": [
    "def out():\n",
    "    outText=\"out\"\n",
    "    def txt():\n",
    "        print(outText)\n",
    "    txt()\n",
    "out()\n",
    "#txt()      #지역함수가 존재한다"
   ],
   "id": "50b1d774364f16a4"
  },
  {
   "metadata": {},
   "cell_type": "markdown",
   "source": [
    "## 클래스\n",
    "```\n",
    "class 클래스이름:\n",
    "    def 메서드(self):\n",
    "        코드\n",
    "```\n",
    "- 인스턴스와 객체는 무슨 차이일까?\n",
    "    - 인스턴스와 객체는 같지만 클래스를 사용할 때는 인스턴스라고 부르고, 객체 자체를 언급할 때는 객체라고 부른다\n",
    "<br>\n",
    "- 함수와 메서드는 무슨 차이일까?\n",
    "    - 클래스나 객체에 속하지 않으면 함수, 속해있다면 메서드라고 불린다"
   ],
   "id": "87ec60f716f38fd6"
  },
  {
   "metadata": {
    "ExecuteTime": {
     "end_time": "2025-04-22T06:05:50.975234Z",
     "start_time": "2025-04-22T06:05:50.972446Z"
    }
   },
   "cell_type": "code",
   "source": [
    "class Person:\n",
    "    def __init__(self, name, age):     #__init__은 생성자로 인스턴스가 생성될 때 자동으로 실행되어 초기화 하기 좋다\n",
    "        self.hi=\"hi\"                    #self : 자기 자신\n",
    "        self.name=name\n",
    "        self.age=age\n",
    "    def greeting(self):\n",
    "        print(self.hi)\n",
    "\n",
    "me=Person('김다은',10)     #인스턴스\n",
    "me.greeting()\n",
    "print(me.name)\n",
    "\n",
    "a=int(10)       #a인스턴스"
   ],
   "id": "de7e70c0f4f0c348",
   "outputs": [
    {
     "name": "stdout",
     "output_type": "stream",
     "text": [
      "hi\n",
      "김다은\n"
     ]
    }
   ],
   "execution_count": 24
  },
  {
   "metadata": {},
   "cell_type": "markdown",
   "source": "## 클래스의 상속",
   "id": "4eef97b2077cfa16"
  },
  {
   "metadata": {
    "ExecuteTime": {
     "end_time": "2025-04-22T06:21:47.039257Z",
     "start_time": "2025-04-22T06:21:47.036543Z"
    }
   },
   "cell_type": "code",
   "source": [
    "class Car:\n",
    "    speed=300\n",
    "    def move(self,x):\n",
    "        print(x)\n",
    "\n",
    "class HybridCar(Car):\n",
    "    battery=1000\n",
    "\n",
    "class ElectricCar(HybridCar):\n",
    "    battery=500\n",
    "    def move(self,x):           #오버라이딩 : 메서드를 덮어쓴다\n",
    "        print(\"new\",x)\n",
    "\n",
    "carA=HybridCar()\n",
    "print(carA.speed)\n",
    "carElect=ElectricCar()\n",
    "print(carElect.battery)\n",
    "carElect.move(200)\n"
   ],
   "id": "2f96465b925f3c56",
   "outputs": [
    {
     "name": "stdout",
     "output_type": "stream",
     "text": [
      "300\n",
      "500\n",
      "new 200\n"
     ]
    }
   ],
   "execution_count": 28
  },
  {
   "metadata": {},
   "cell_type": "markdown",
   "source": "## 예외처리",
   "id": "68a307303b152136"
  },
  {
   "metadata": {
    "ExecuteTime": {
     "end_time": "2025-04-22T06:55:14.552515Z",
     "start_time": "2025-04-22T06:55:09.467328Z"
    }
   },
   "cell_type": "code",
   "source": [
    "try:\n",
    "    x=int(input('10을 나눌 숫자 : '))\n",
    "    y=10/x\n",
    "    print(y)\n",
    "    raise ZeroDivisionError        #오류를 발생시킴 ( 뒤에 오류명 안쓰면 디폴트에러 출력 )\n",
    "\n",
    "except ZeroDivisionError:\n",
    "    print('0으로 나눌 수 없습니다')\n",
    "except:                                 #디폴트 예외가 마지막으로 와야함\n",
    "    print('예외 발생')\n",
    "\n",
    "else:\n",
    "    print('try을 성공하면 출력')\n",
    "\n",
    "finally:\n",
    "    print('예외가 발생하더라도 출력')"
   ],
   "id": "f571195bde0b18c3",
   "outputs": [
    {
     "name": "stdout",
     "output_type": "stream",
     "text": [
      "3.3333333333333335\n",
      "0으로 나눌 수 없습니다\n",
      "예외가 발생하더라도 출력\n"
     ]
    }
   ],
   "execution_count": 39
  },
  {
   "metadata": {
    "ExecuteTime": {
     "end_time": "2025-04-22T07:19:08.355846Z",
     "start_time": "2025-04-22T07:19:08.352186Z"
    }
   },
   "cell_type": "code",
   "source": [
    "y=[1,2,3]\n",
    "try:\n",
    "    print(y[4])\n",
    "except IndexError:\n",
    "    print('잘못된 인덱스 입니다')"
   ],
   "id": "f31143499c1d63ec",
   "outputs": [
    {
     "name": "stdout",
     "output_type": "stream",
     "text": [
      "잘못된 인덱스 입니다\n"
     ]
    }
   ],
   "execution_count": 47
  },
  {
   "metadata": {},
   "cell_type": "markdown",
   "source": [
    "## 파일 입출력\n",
    "웹 > 크롤링 > 데이터베이스 > 1차 클렌징 > 출력 후 담당자에게 전달 > 2차 클렌징 > 유용한 데이터셋 > csv 데이터베이스 입력 > 인공지능 학습\n",
    "\n",
    "r : 읽기 <br>\n",
    "w : 쓰기 (주의 - 덮어쓰기)<br>\n",
    "a : 추가"
   ],
   "id": "5259c9058bdacf05"
  },
  {
   "metadata": {
    "ExecuteTime": {
     "end_time": "2025-04-22T07:09:57.115967Z",
     "start_time": "2025-04-22T07:09:57.107716Z"
    }
   },
   "cell_type": "code",
   "source": "pwd",
   "id": "a7878de53225bca2",
   "outputs": [
    {
     "data": {
      "text/plain": [
       "'/Users/daeun/Desktop/oz_assignment/Python/study'"
      ]
     },
     "execution_count": 40,
     "metadata": {},
     "output_type": "execute_result"
    }
   ],
   "execution_count": 40
  },
  {
   "metadata": {
    "ExecuteTime": {
     "end_time": "2025-04-22T07:13:30.674309Z",
     "start_time": "2025-04-22T07:13:30.670705Z"
    }
   },
   "cell_type": "code",
   "source": "cd /Users/daeun/Desktop/oz_assignment/Python/sub",
   "id": "fb51fb504f61a534",
   "outputs": [
    {
     "name": "stdout",
     "output_type": "stream",
     "text": [
      "/Users/daeun/Desktop/oz_assignment/Python/sub\n"
     ]
    }
   ],
   "execution_count": 42
  },
  {
   "metadata": {
    "ExecuteTime": {
     "end_time": "2025-04-22T07:33:26.150448Z",
     "start_time": "2025-04-22T07:33:26.147093Z"
    }
   },
   "cell_type": "code",
   "source": [
    "f = open('test.txt','w')\n",
    "f.write('test2입니다!\\n')\n",
    "f.close()\n",
    "\n",
    "f = open('test.txt','w')\n",
    "f.write('''개발자 여러분\n",
    "개발자 여러분\n",
    "개발자 여러분\n",
    "개발자 여러분\n",
    "개발자 여러분\n",
    "'''\n",
    ")\n",
    "f.close()"
   ],
   "id": "6ba7d27969ca378f",
   "outputs": [],
   "execution_count": 71
  },
  {
   "metadata": {
    "ExecuteTime": {
     "end_time": "2025-04-22T07:34:15.920890Z",
     "start_time": "2025-04-22T07:34:15.917159Z"
    }
   },
   "cell_type": "code",
   "source": [
    "f=open('test.txt','r')\n",
    "s=f.read()\n",
    "print(s)\n",
    "f.close()\n",
    "\n",
    "print('---------------------------')\n",
    "\n",
    "f=open('test.txt','r')\n",
    "line=f.readline()\n",
    "print(line)\n",
    "f.close()\n",
    "\n",
    "print('---------------------------')\n",
    "\n",
    "f=open('test.txt','r')\n",
    "while line:\n",
    "    line=f.readline()\n",
    "    print(line)\n",
    "f.close()"
   ],
   "id": "df60271ef4102817",
   "outputs": [
    {
     "name": "stdout",
     "output_type": "stream",
     "text": [
      "개발자 여러분\n",
      "개발자 여러분\n",
      "개발자 여러분\n",
      "개발자 여러분\n",
      "개발자 여러분\n",
      "\n",
      "---------------------------\n",
      "개발자 여러분\n",
      "\n",
      "---------------------------\n",
      "개발자 여러분\n",
      "\n",
      "개발자 여러분\n",
      "\n",
      "개발자 여러분\n",
      "\n",
      "개발자 여러분\n",
      "\n",
      "개발자 여러분\n",
      "\n",
      "\n"
     ]
    }
   ],
   "execution_count": 73
  },
  {
   "metadata": {
    "ExecuteTime": {
     "end_time": "2025-04-22T07:57:32.260116Z",
     "start_time": "2025-04-22T07:57:32.256195Z"
    }
   },
   "cell_type": "code",
   "source": [
    "f=open('test.txt','a')\n",
    "f.write('힘내자!!!')\n",
    "f.close()\n",
    "\n",
    "with open('test.txt','a') as f:\n",
    "    f.write('힘내자2!!!')\n",
    "\n",
    "list1=[10, 20, 30]\n",
    "with open('test.txt','w') as f:\n",
    "    f.write(str(list1))\n",
    "\n",
    "with open('test.txt','w') as f:\n",
    "    f.write('let test = '+str(list1))       #자바스크립트는 문법으로 받아들임\n",
    "\n",
    "list2=['40', '50', '60']\n",
    "with open('test.txt','w') as f:\n",
    "    f.writelines(list2)\n",
    "\n",
    "with open('test2.csv','w') as f:\n",
    "    f.write(','.join(list2))"
   ],
   "id": "665e39c65c1eb80b",
   "outputs": [],
   "execution_count": 85
  }
 ],
 "metadata": {
  "kernelspec": {
   "display_name": "Python 3",
   "language": "python",
   "name": "python3"
  },
  "language_info": {
   "codemirror_mode": {
    "name": "ipython",
    "version": 2
   },
   "file_extension": ".py",
   "mimetype": "text/x-python",
   "name": "python",
   "nbconvert_exporter": "python",
   "pygments_lexer": "ipython2",
   "version": "2.7.6"
  }
 },
 "nbformat": 4,
 "nbformat_minor": 5
}
