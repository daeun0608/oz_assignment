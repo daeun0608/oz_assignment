{
 "cells": [
  {
   "metadata": {},
   "cell_type": "markdown",
   "source": [
    "1. 오류의 종류\n",
    "    1. 프로그램 실행 전에 발생하는 '구문 오류'\n",
    "    2. 프로그램 실행 중에 발생하는 '예외' 또는 '런타임 오류'\n",
    "<br><br>\n",
    "2. 오류 종류 별로 해결법\n",
    "- 구문오류 -> 코드에서 문법 고치기\n",
    "    - SyntaxError : 구문에 문제가 발생해 프로그램이 실행조차 되지 않는 오류\n",
    "- 예외 -> 예외 처리 : 예외를 해겷하는 모든 것\n",
    "    - 조건문을 사용 ( 기본 예외 처리 )\n",
    "    - try 구문을 사용 ( try except 구문)\n",
    "3. isdigit() 함수란?"
   ],
   "id": "691ffd4da264fd2a"
  },
  {
   "metadata": {},
   "cell_type": "markdown",
   "source": "### isdigit() : 숫자로만 구성된 글자인지 판단하고 변환 가능하면 true를 반환",
   "id": "5427eba45934b95"
  },
  {
   "cell_type": "code",
   "id": "initial_id",
   "metadata": {
    "collapsed": true,
    "ExecuteTime": {
     "end_time": "2025-04-24T06:52:27.769833Z",
     "start_time": "2025-04-24T06:52:27.765631Z"
    }
   },
   "source": [
    "from idlelib.help import copy_strip\n",
    "\n",
    "'3.15'.isdigit()"
   ],
   "outputs": [
    {
     "data": {
      "text/plain": [
       "False"
      ]
     },
     "execution_count": 3,
     "metadata": {},
     "output_type": "execute_result"
    }
   ],
   "execution_count": 3
  },
  {
   "metadata": {},
   "cell_type": "markdown",
   "source": [
    "## try except\n",
    "1. try ~except 구문 사용 이유와 방법\n",
    "```\n",
    "try:\n",
    "    x, y=map(int, input().split(' '))\n",
    "    print(x,y)\n",
    "except:\n",
    "    pass    # 당장 처리하지 않을 부분이라면 pass키워드로 무시\n",
    "```\n",
    "- 모든 예외사항을 조건문으로 처리하기 굉장히 어려움이 있음\n",
    "- 조건문보다 다소 느림 ( 파이썬은 속도를 중요시 하지는 않아서 )\n",
    "<br><br>\n",
    "2. finally 구문의 기능과 특징\n",
    "- finally는 예외의 유무와 관계없이 실행된다.\n",
    "- finally 구문이 있다면 return 이나 break를 만나도 무조건 finally 구문이 실행된다.\n",
    "<br><br>\n",
    "구문의 조합 규칙 -> 외의 조합은 오류\n",
    "- try ~except\n",
    "- try ~except ~else\n",
    "- try ~except ~finally\n",
    "- try ~except ~else\n",
    "- try ~finally"
   ],
   "id": "50d488e740f42e48"
  },
  {
   "metadata": {
    "ExecuteTime": {
     "end_time": "2025-04-24T08:38:40.819164Z",
     "start_time": "2025-04-24T08:38:40.816238Z"
    }
   },
   "cell_type": "code",
   "source": [
    "#마치 조건문처럼 사용\n",
    "list1=['1','2','3','스파이']\n",
    "list2=[]\n",
    "for i in list1:\n",
    "    try:        #예외가 발생할 가능성이 있는 코드\n",
    "        int(i)\n",
    "        list2.append(i)\n",
    "    except:     #예외가 발생했을 때 실행할 코드\n",
    "        pass\n",
    "    else:       #예외가 발생하지 않았을 때 실행할 코드\n",
    "        print('오류미발생')\n",
    "    finally:    #무조건 실행할 코드\n",
    "        print('무조건실행')\n",
    "\n",
    "print(list2)"
   ],
   "id": "77fb48f3af55a41b",
   "outputs": [
    {
     "name": "stdout",
     "output_type": "stream",
     "text": [
      "오류미발생\n",
      "무조건실행\n",
      "오류미발생\n",
      "무조건실행\n",
      "오류미발생\n",
      "무조건실행\n",
      "무조건실행\n",
      "['1', '2', '3']\n"
     ]
    }
   ],
   "execution_count": 11
  },
  {
   "metadata": {},
   "cell_type": "markdown",
   "source": [
    "1. 예외의 종류와 설명\n",
    "## 예외의 종류\n",
    "- NameError : 변수를 찾을 수 없을 때 발생\n",
    "- ValueError : 부적절한 값을 가진 인자를 받았을 때 발생하는 에러\n",
    "- KeyError : 없는 키값에 접근하려 할 때 발생 (주로 딕셔너리에서)\n",
    "- IndexError : 없는 인덱스 값에 접근하려고 할 때 발생\n",
    "- ZeroDivisionError : 숫자를 0으로 나누려는 경우 발생\n",
    "- FileNotFoundError : 존재하지 않는 파일이나 디렉토리에 접근하려 할 때\n",
    "- TypeError : 서로 다른 타입으로 연산하려고 할 때 발생\n",
    "- AttributeError : 잘못된 메서드나 속성을 호출하거나 대입했을 때 발생\n",
    "- ConnectionError : 서버를 켜지 않았을 때 발생"
   ],
   "id": "fdb09e18a5fe033c"
  },
  {
   "metadata": {
    "ExecuteTime": {
     "end_time": "2025-04-25T03:54:03.559837Z",
     "start_time": "2025-04-25T03:54:03.555754Z"
    }
   },
   "cell_type": "code",
   "source": [
    "try:\n",
    "    x, y = map(int, ['a', 'b'])     #input 대신 테스트로 오류발생\n",
    "    print(x, y)\n",
    "except Exception as exception:\n",
    "    print('type(exception) :',type(exception))      #에외이름\n",
    "    print('exception :', exception)                 #에외설명"
   ],
   "id": "d1fdc49f3a498d04",
   "outputs": [
    {
     "name": "stdout",
     "output_type": "stream",
     "text": [
      "type(exception : <class 'ValueError'>\n",
      "exception: invalid literal for int() with base 10: 'a'\n"
     ]
    }
   ],
   "execution_count": 2
  },
  {
   "metadata": {
    "ExecuteTime": {
     "end_time": "2025-04-25T04:20:25.945243Z",
     "start_time": "2025-04-25T04:20:25.942682Z"
    }
   },
   "cell_type": "code",
   "source": [
    "try:\n",
    "    x, y = map(int, ['a', 'b'])     #input 대신 테스트로 ValueError발생\n",
    "    print(x, y)\n",
    "\n",
    "except ValueError as exception:                  #특정에러일 때 실행되는 구문\n",
    "    print('정수입력하세요!')\n",
    "    print(ValueError)\n",
    "    print(exception)                #별칭을 이용해야지 설명을 볼 수 있음\n",
    "\n",
    "except IndexError:\n",
    "    print('리스트의 범위를 벗어났습니다!')\n",
    "\n",
    "except Exception:\n",
    "    print('나머지 에러~')"
   ],
   "id": "4c74e5ab219fe87e",
   "outputs": [
    {
     "name": "stdout",
     "output_type": "stream",
     "text": [
      "정수입력하세요!\n",
      "<class 'ValueError'>\n",
      "invalid literal for int() with base 10: 'a'\n"
     ]
    }
   ],
   "execution_count": 7
  },
  {
   "metadata": {},
   "cell_type": "markdown",
   "source": [
    "## raise\n",
    "예외를 강제로 발생시키는 기능, 의도하지 않게 작동하는 상황을 방지하기 위해 사용<br>\n",
    "```raise 예외이름```"
   ],
   "id": "43837b6ec11654ea"
  },
  {
   "metadata": {
    "ExecuteTime": {
     "end_time": "2025-04-25T04:45:56.051257Z",
     "start_time": "2025-04-25T04:45:56.038539Z"
    }
   },
   "cell_type": "code",
   "source": [
    "if True:\n",
    "    raise NotImplementedError #아직 미구현 상태임을 표시, 실행되면 안되는 코드임을 표시할 때 사용함!"
   ],
   "id": "ce8996c095bea292",
   "outputs": [
    {
     "ename": "NotImplementedError",
     "evalue": "",
     "output_type": "error",
     "traceback": [
      "\u001B[31m---------------------------------------------------------------------------\u001B[39m",
      "\u001B[31mNotImplementedError\u001B[39m                       Traceback (most recent call last)",
      "\u001B[36mCell\u001B[39m\u001B[36m \u001B[39m\u001B[32mIn[12]\u001B[39m\u001B[32m, line 2\u001B[39m\n\u001B[32m      1\u001B[39m \u001B[38;5;28;01mif\u001B[39;00m \u001B[38;5;28;01mTrue\u001B[39;00m:\n\u001B[32m----> \u001B[39m\u001B[32m2\u001B[39m     \u001B[38;5;28;01mraise\u001B[39;00m \u001B[38;5;167;01mNotImplementedError\u001B[39;00m \u001B[38;5;66;03m#아직 미구현 상태임을 표시, 실행되면 안되는 코드임을 표시할 때 사용함!\u001B[39;00m\n",
      "\u001B[31mNotImplementedError\u001B[39m: "
     ]
    }
   ],
   "execution_count": 12
  },
  {
   "metadata": {},
   "cell_type": "markdown",
   "source": [
    "## 사용자 정의 예외\n",
    "```\n",
    "class 사용자정의예외이름(Exception):\n",
    "    pass\n",
    "```\n",
    "- Exception 혹의 그 하위를 상속 받아야함\n",
    "- raise로 직접 예외를 발생시켜야함"
   ],
   "id": "c1095eba671a8a2"
  },
  {
   "metadata": {},
   "cell_type": "markdown",
   "source": [
    "## import\n",
    "다양한 표준 모듈을 볼 수 있는 공식 사이트 : https://docs.python.org/ko/3/library/index.html\n",
    "(구글링으로 찾을 수 있음)\n",
    "\n",
    "모듈 : 여러 변수와 함수를 가지고 있는 집합체\n",
    "\n",
    "## 표준모듈 : 파이썬에 기본적으로 내장되어 있는 모듈을 '표준 모듈'이라고 함\n",
    "\n",
    "```\n",
    "[모듈 사용방법]\n",
    "import 모듈이름\n",
    "```"
   ],
   "id": "47757d955bdc7c35"
  },
  {
   "metadata": {},
   "cell_type": "code",
   "outputs": [
    {
     "data": {
      "text/plain": [
       "4"
      ]
     },
     "execution_count": 13,
     "metadata": {},
     "output_type": "execute_result"
    }
   ],
   "execution_count": 13,
   "source": [
    "import math     # math 모듈 : 수학과 관련된 기능을 가지고 있음\n",
    "\n",
    "x=30\n",
    "math.sin(x)\n",
    "math.cos(x)"
   ],
   "id": "e8138f62954bba5b"
  },
  {
   "metadata": {},
   "cell_type": "markdown",
   "source": [
    "### from\n",
    "모듈안에 수 많은 함수 중 우리가 원하는 함수만을 가져와 사용하면 문법적으로 굉장히 편해짐\n",
    "\n",
    "```from 모듈이름 import 가져오고싶은 변수 또는 함수```\n",
    "\n",
    "### as\n",
    "모듈을 가져오다 보면 이름이 충돌하거나, 이름이 길어 짧게 사용하고 싶은 경우 사용"
   ],
   "id": "5a854ecfcba5b36d"
  },
  {
   "metadata": {
    "ExecuteTime": {
     "end_time": "2025-04-25T04:56:46.307183Z",
     "start_time": "2025-04-25T04:56:46.304410Z"
    }
   },
   "cell_type": "code",
   "source": [
    "from math import sin,ceil     # math 모듈 : 수학과 관련된 기능을 가지고 있음\n",
    "#from math import * : 모든 함수를 가져오는 방법 ( 모듈이 많아질수록 느려짐 )\n",
    "\n",
    "#import math as m\n",
    "#m.sin(x)\n",
    "\n",
    "sin(30)\n",
    "ceil(4.5)\n",
    "math.ceil(7.2)      #from 썼어도 앞에 모듈 지정해도 오류 안남!"
   ],
   "id": "b9ccb0acd3edf42e",
   "outputs": [
    {
     "data": {
      "text/plain": [
       "5"
      ]
     },
     "execution_count": 16,
     "metadata": {},
     "output_type": "execute_result"
    }
   ],
   "execution_count": 16
  },
  {
   "metadata": {},
   "cell_type": "markdown",
   "source": [
    "## 표준모듈의 종류\n",
    "- math : 수학과 관련된 모듈\n",
    "- os : 운영체제와 관련된 모듈\n",
    "- datetime : 날짜와 시간에 관련된 모듈\n",
    "- time : 시간과 관련된 모듈 ( 특정 시간동안 코드를 정지하는 sleep() )\n",
    "- urllib : URL을 다루는 라이브러리\n",
    "    - 라이브러리 : 여러 개의 모듈을 포함한 패키지(package) 또는 기능 모음집 ( 모듈은 .py 하나 )\n",
    "- requests 라이브러리"
   ],
   "id": "d01eb62f9b5a0fc7"
  },
  {
   "metadata": {
    "ExecuteTime": {
     "end_time": "2025-04-25T05:05:48.171500Z",
     "start_time": "2025-04-25T05:05:48.168344Z"
    }
   },
   "cell_type": "code",
   "source": [
    "import math\n",
    "\n",
    "x=30\n",
    "math.sin(x)\n",
    "math.cos(x)\n",
    "math.tan(x)\n",
    "math.ceil(4.5)    # 올림\n",
    "math.floor(4.5)   # 내림"
   ],
   "id": "a88f107dc9c92b7e",
   "outputs": [
    {
     "data": {
      "text/plain": [
       "4"
      ]
     },
     "execution_count": 17,
     "metadata": {},
     "output_type": "execute_result"
    }
   ],
   "execution_count": 17
  },
  {
   "metadata": {
    "ExecuteTime": {
     "end_time": "2025-04-28T04:47:05.647273Z",
     "start_time": "2025-04-28T04:47:05.638751Z"
    }
   },
   "cell_type": "code",
   "source": [
    "import os\n",
    "\n",
    "print(\"운영체제 :\",os.name)\n",
    "\n",
    "#폴더\n",
    "print(os.getcwd())     #현재 폴더\n",
    "#현재 폴더 정보\n",
    "print(os.listdir())     #리스트 타입으로 반환\n",
    "print(os.system('ls'))\n",
    "#os.system('dir') << window\n",
    "\n",
    "\n",
    "\n",
    "#os.mkdir('oz')     #폴더 생성\n",
    "#os.rmdir('oz')     #폴더 삭제\n",
    "\n",
    "#파일\n",
    "#with open('oz.txt','w') as file:   #파일을 생성하고 씀\n",
    "#    file.write('안녕하세요')\n",
    "#os.rename('oz.txt','new_oz.txt')   #파일이름 변경\n",
    "#os.remove('new_oz.txt')            #파일삭제"
   ],
   "id": "a5fe86854044fd72",
   "outputs": [
    {
     "name": "stdout",
     "output_type": "stream",
     "text": [
      "운영체제 : posix\n",
      "/Users/daeun/Desktop/oz_assignment/Python/study\n",
      "['day7_try예외처리_모듈.ipynb', 'day4_조건문_반복문_랜덤.ipynb', 'day2_str_논리연산자.ipynb', 'day5_함수_클래스_상속_파일입출력.ipynb', 'day3_입력과출력_시퀸스자료형.ipynb', 'day1_사칙연산.ipynb', 'day6_매개변수_재귀함수_튜플함수_람다_제너레이터_타입어노테이션.ipynb']\n",
      "day1_사칙연산.ipynb\n",
      "day2_str_논리연산자.ipynb\n",
      "day3_입력과출력_시퀸스자료형.ipynb\n",
      "day4_조건문_반복문_랜덤.ipynb\n",
      "day5_함수_클래스_상속_파일입출력.ipynb\n",
      "day6_매개변수_재귀함수_튜플함수_람다_제너레이터_타입어노테이션.ipynb\n",
      "day7_try예외처리_모듈.ipynb\n",
      "0\n"
     ]
    }
   ],
   "execution_count": 4
  },
  {
   "metadata": {
    "ExecuteTime": {
     "end_time": "2025-04-25T06:23:45.780688Z",
     "start_time": "2025-04-25T06:23:45.776617Z"
    }
   },
   "cell_type": "code",
   "source": [
    "import datetime\n",
    "\n",
    "#오늘의 정보를 담음\n",
    "now=datetime.datetime.now()     #모듈.클래스.함수()\n",
    "now.year\n",
    "now.month\n",
    "now.day\n",
    "now.hour\n",
    "now.minute\n",
    "now.second\n",
    "now.total_seconds()     #second이 소수점을 버리는 것을 대체하여 소수점을 가져옴\n",
    "\n",
    "output1=now.strftime(\"%y.%m.%d %H:%M:%S\")\n",
    "output2=f'{now.year}년 {now.month}월 {now.day}일 {now.hour}시 {now.minute}분 {now.second}초'\n",
    "output3=now.strftime(\"%y{} %m{} %d{} %H{} %M{} %S{}\".format(*'년월일시분초'))\n",
    "print(output1)\n",
    "print(output2)\n",
    "print(output3)"
   ],
   "id": "a50721b680231e62",
   "outputs": [
    {
     "name": "stdout",
     "output_type": "stream",
     "text": [
      "25.04.25 15:23:45\n",
      "2025년 4월 25일 15시 23분 45초\n",
      "25년 04월 25일 15시 23분 45초\n"
     ]
    },
    {
     "data": {
      "text/plain": [
       "'25.04.25 15:23:45'"
      ]
     },
     "execution_count": 32,
     "metadata": {},
     "output_type": "execute_result"
    }
   ],
   "execution_count": 32
  },
  {
   "metadata": {
    "ExecuteTime": {
     "end_time": "2025-04-25T06:28:08.655854Z",
     "start_time": "2025-04-25T06:28:05.646981Z"
    }
   },
   "cell_type": "code",
   "source": [
    "import time\n",
    "\n",
    "print('3초동안')\n",
    "time.sleep(3)\n",
    "print('멍때리기')\n",
    "\n",
    "time.time()  # 현재시간 (차로 지난시간을 구할 수 있음)"
   ],
   "id": "cbe986a64ecd9742",
   "outputs": [
    {
     "name": "stdout",
     "output_type": "stream",
     "text": [
      "3초동안\n",
      "멍때리기\n"
     ]
    }
   ],
   "execution_count": 33
  },
  {
   "metadata": {
    "ExecuteTime": {
     "end_time": "2025-04-25T06:37:27.614094Z",
     "start_time": "2025-04-25T06:37:27.581916Z"
    }
   },
   "cell_type": "code",
   "source": [
    "try:\n",
    "    from urllib import request\n",
    "    target=request.urlopen(\"https://www.naver.com\")\n",
    "    web_code=target.read()\n",
    "    print(web_code)\n",
    "except:\n",
    "    print('맥이여서 인증서검사 실패함')"
   ],
   "id": "38ee226f662c5dcc",
   "outputs": [
    {
     "name": "stdout",
     "output_type": "stream",
     "text": [
      "맥이여서 인증서검사 실패함\n"
     ]
    }
   ],
   "execution_count": 37
  },
  {
   "metadata": {},
   "cell_type": "code",
   "outputs": [],
   "execution_count": null,
   "source": [
    "# 인증서 검사용 코드\n",
    "import ssl\n",
    "context = ssl._create_unverified_context()\n",
    "target=request.urlopen(\"https://www.naver.com\", context=context)"
   ],
   "id": "8f9bfaab1ae123e0"
  },
  {
   "metadata": {},
   "cell_type": "code",
   "outputs": [
    {
     "name": "stdout",
     "output_type": "stream",
     "text": [
      "web_code 잘실행됨\n"
     ]
    }
   ],
   "execution_count": 39,
   "source": [
    "from urllib import request\n",
    "\n",
    "import ssl\n",
    "context = ssl._create_unverified_context()\n",
    "target=request.urlopen(\"https://www.naver.com\", context=context)\n",
    "\n",
    "web_code=target.read()\n",
    "print('web_code 잘실행됨')"
   ],
   "id": "172c6b7b48bd7bcf"
  },
  {
   "metadata": {},
   "cell_type": "code",
   "outputs": [],
   "execution_count": null,
   "source": [
    "# 브라우저추가\n",
    "\n",
    "import ssl\n",
    "# SSL 인증 무시\n",
    "context = ssl._create_unverified_context()\n",
    "# User-Agent 설정 (브라우저처럼 위장)\n",
    "headers = {\n",
    "    \"User-Agent\": \"Mozilla/5.0 (Macintosh; Intel Mac OS X 10_15_7) AppleWebKit/537.36 (KHTML, like Gecko) Chrome/123.0.0.0 Safari/537.36\"\n",
    "}\n",
    "req = request.Request(\"https://kream.co.kr/\", headers=headers)\n",
    "#요청보내기\n",
    "target = request.urlopen(req, context=context)"
   ],
   "id": "64594ff2b8c9af33"
  },
  {
   "metadata": {},
   "cell_type": "code",
   "outputs": [],
   "execution_count": null,
   "source": [
    "import requests\n",
    "\n",
    "headers = {\n",
    "    \"User-Agent\": \"Mozilla/5.0 (Macintosh; Intel Mac OS X 10_15_7) AppleWebKit/537.36 (KHTML, like Gecko) Chrome/123.0.0.0 Safari/537.36\",\n",
    "    \"Referer\": \"https://kream.co.kr/\"\n",
    "}\n",
    "\n",
    "response = requests.get(\"https://kream.co.kr/\", headers=headers, verify=False)\n",
    "\n",
    "print(response.text[:100])\n"
   ],
   "id": "d7d6224a6e4db777"
  },
  {
   "metadata": {},
   "cell_type": "markdown",
   "source": [
    "## 외부모듈\n",
    "파이썬의 장점 중 하나인 다양한 외부모듈\n",
    "\n",
    "인공지능 > 텐서플로, 사이킷런<br>\n",
    "웹 > django, fastapi\n",
    "\n",
    "모듈설치<br>\n",
    "```pip install 모듈이름```<br>\n",
    "mac >> ```pip3 install 모듈이름``` ```brew install 모듈이름```<br>\n",
    "brew 오류 - (brew (Homebrew)는 시스템 패키지 관리자라서 Python 패키지 설치엔 적절X )\n",
    "\n",
    "- beautifulsoup4 : 웹에 있는 정보를 가져오는 프로그램 ( 정적페이지를 크롤링하거나 스크래핑할때 사용 )\n",
    "\n",
    "RSS(Really Simple Syndication, Rich Site Summary)<br>\n",
    ": 블로그처럼 컨텍츠 업데이트가 자주 일어나는 웹사이트에서, 업데이트된 정보를 쉽게 구독자들에게 제공하기 위해 XML을 기초로 만들어진 데이터 형식<br>\n",
    ": 업데이트된 정보를 일일이 방문하지 않아도 업데이트 정보를 빠르고 편리하게 확인할 수 있습니다.\n",
    "\n",
    "[기상청 RSS 서비스] https://www.weather.go.kr/w/pop/rss-guide.do<br>\n",
    "[rss 전국 기상 정보 주소(위 주소에서 받은 rss)]<br>\n",
    "http://www.kma.go.kr/repositary/xml/fct/mon/img/fct_mon1rss_108_20250424.xml<br>"
   ],
   "id": "d5e195aa72c39fc"
  },
  {
   "metadata": {
    "ExecuteTime": {
     "end_time": "2025-04-28T05:03:40.257197Z",
     "start_time": "2025-04-28T05:03:39.917889Z"
    }
   },
   "cell_type": "code",
   "source": [
    "# 단기예보 서비스 개선에 따른 날씨누리 RSS 서비스 중단 안내\n",
    "# 코드실행 불가\n",
    "from urllib import request\n",
    "from bs4 import BeautifulSoup\n",
    "\n",
    "import ssl\n",
    "context = ssl._create_unverified_context()\n",
    "\n",
    "target=request.urlopen(\"http://www.kma.go.kr/repositary/xml/fct/mon/img/fct_mon1rss_108_20250424\", context=context)\n",
    "soup=BeautifulSoup(target,'html.parser')    #컴퓨터가 이해 못하는 html을 이해시키는 과정\n",
    "for location in soup.select(\"location\"):     #location 태그 모두 선택\n",
    "    print('도시 :',location.select_one(\"city\").string)\n",
    "    print('날씨 :',location.select_one(\"wf\").string)\n",
    "    print('최저기온 :',location.select_one(\"tmn\").string)\n",
    "    print('최고기온 :',location.select_one(\"tmx \").string)\n"
   ],
   "id": "1b6ed3aaa591b5fd",
   "outputs": [],
   "execution_count": 5
  },
  {
   "metadata": {},
   "cell_type": "markdown",
   "source": [
    "\n",
    "## 사용자 정의 모듈\n",
    "- 같은 폴더 안에 있어야 함"
   ],
   "id": "b2fb79bec381bd6c"
  },
  {
   "metadata": {
    "ExecuteTime": {
     "end_time": "2025-04-28T05:43:24.887911Z",
     "start_time": "2025-04-28T05:43:22.266414Z"
    }
   },
   "cell_type": "code",
   "source": [
    "#day7_oz_module.py\n",
    "import day7_oz_module as oz\n",
    "\n",
    "r=oz.number_input()\n",
    "print(oz.get_circum(r))\n",
    "print(oz.get_circle(r))"
   ],
   "id": "aae95df6299c9791",
   "outputs": [
    {
     "name": "stdout",
     "output_type": "stream",
     "text": [
      "18.849552000000003\n",
      "28.274328000000004\n"
     ]
    }
   ],
   "execution_count": 9
  },
  {
   "metadata": {},
   "cell_type": "markdown",
   "source": [
    "## 데코레이터\n",
    "- @로 시작하는 구문\n",
    "- 만드는 방법에 따라 함수 데코레이터와 클래스 데코레이터로 나눌 수 있음\n",
    "- 함수의 값이 아니라 함수객체를 리턴한다"
   ],
   "id": "d9e25ad0ff99f89a"
  },
  {
   "metadata": {
    "ExecuteTime": {
     "end_time": "2025-04-28T05:08:55.972723Z",
     "start_time": "2025-04-28T05:08:55.969466Z"
    }
   },
   "cell_type": "code",
   "source": [
    "def test(func):\n",
    "    def wrapper():\n",
    "        print('아마도')\n",
    "        func()\n",
    "    return wrapper\n",
    "\n",
    "@test\n",
    "def oz():\n",
    "    print('열공중')\n",
    "\n",
    "oz()"
   ],
   "id": "614357bc1bf43fa4",
   "outputs": [
    {
     "name": "stdout",
     "output_type": "stream",
     "text": [
      "아마도\n",
      "열공중\n"
     ]
    }
   ],
   "execution_count": 6
  },
  {
   "metadata": {},
   "cell_type": "markdown",
   "source": [
    "## 패키지 : 모듈의 집합\n",
    "- __init__.py : 해당 폴더가 패키지라는 것을 파이썬에게 알려주고, 패키지의 초기화 작업을 처리"
   ],
   "id": "5264a869f638120e"
  },
  {
   "metadata": {},
   "cell_type": "code",
   "outputs": [],
   "execution_count": null,
   "source": [
    "\"\"\"\n",
    "import oz_package.oz_module_1 as one        #패키지폴더 안의 모듈을 골라옴\n",
    "import oz_package.oz_module_2 as two\n",
    "\n",
    "print(one.val_1)\n",
    "print(two.val_2)\n",
    "\"\"\""
   ],
   "id": "f17df988909587b0"
  }
 ],
 "metadata": {
  "kernelspec": {
   "display_name": "Python 3",
   "language": "python",
   "name": "python3"
  },
  "language_info": {
   "codemirror_mode": {
    "name": "ipython",
    "version": 2
   },
   "file_extension": ".py",
   "mimetype": "text/x-python",
   "name": "python",
   "nbconvert_exporter": "python",
   "pygments_lexer": "ipython2",
   "version": "2.7.6"
  }
 },
 "nbformat": 4,
 "nbformat_minor": 5
}
