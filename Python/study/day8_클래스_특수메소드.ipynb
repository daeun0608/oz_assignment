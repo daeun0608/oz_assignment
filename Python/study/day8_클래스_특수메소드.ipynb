{
 "cells": [
  {
   "metadata": {},
   "cell_type": "markdown",
   "source": [
    "## 객체\n",
    "1. 객체란?\n",
    "2. 객체를 구성하는 속성과 기능?\n",
    "3. 추상화?\n",
    "객체 : 구현하고자 하는 대상의 속성과 기능을 가지는 프로그램 단위\n",
    "- 속성(변수, 특성), 기능(함수)이 필요\n",
    "- 프로그래밍 언어에서 좀 더 넓은 의미로 속성을 가질 수 있는 모든 것을 객체라고 함\n",
    "- 추상화 : 현실 대상은 가지고 있는 구성 요소 또는 특징, 기능이 많아서 필요한 속성만을 이용해 객체로 표현\n",
    "<br><br>\n",
    "4. 객체 지향 프로그램이란?<br>\n",
    "- 클래스 기반의 객체를 우선으로 생각하는 프로그래밍 ( Java, Python, PHP 등 )\n",
    "- 객체와 관련된 코드를 분리할 수 있게 하는 것이 핵심\n",
    "- 객체를 효율적으로 만들고 사용하는 것이 최종목표"
   ],
   "id": "8bfade8b26741065"
  },
  {
   "metadata": {},
   "cell_type": "markdown",
   "source": [
    "## 클래스\n",
    "5. 클래스를 선언하는 구조?\n",
    "6. 인스턴스란?\n",
    "- 클래스이름의 앞글자는 무조건 대문자 -> 모두의 약속!```class CreateOzStudent:```\n",
    "- 클래스의 이름과 같은 함수(생성자)를 사용해서 객체(인스턴스)를 만듭니다.\n",
    "    - 인스턴스 : 클래스에서 생성된 객체\n",
    "    - 인스턴스와 객체는 같지만 클래스를 사용할 때는 인스턴스라고 부르고, 객체 자체를 언급할 때는 객체라고 부른다\n",
    "    - 클래스나 객체에 속하지 않으면 함수, 속해있다면 메서드라고 불린다\n",
    "```\n",
    "class CreateOzStudent:\n",
    "    def 메서드(self):\n",
    "        코드\n",
    "\n",
    "student=CreateOzStudent()\n",
    "list_stu=[CreateOzStudent(), CreateOzStudent(), CreateOzStudent(), CreateOzStudent()]\n",
    "```\n",
    "  <br><br>\n",
    "```def __init__(self, 추가적인매개변수):```\n",
    "- 생성자 함수로 객체를 생성할 때 기본 속성이나 처리를 수행하는 함수\n",
    "- __init__은 생성자로 인스턴스가 생성될 때 자동으로 실행되어 초기화 하기 좋다\n",
    "- 첫번째 매개변수 self\n",
    "    - 전세계 공통 사용\n",
    "    - 모듈이 실행될 때 매모리에서 찾게되는데 self가 자기 자신을 참조(주소)한다\n",
    "    - self의 값은 인터프리터가 실행할 때 클래스 내부 함수의 매개변수 첫번째 값에 자동으로 채운다\n",
    "    - class 내부에서 변수 뿐만 아니라 함수도 self로 참조한다\n",
    "      ```\n",
    "      self.name\n",
    "      self.get_sum()\n",
    "      ```\n",
    "<br><br>\n",
    "### isinstance(인스턴스, 클래스) : 클래스기반으로 생성된 인스턴스인지 T/F 반환"
   ],
   "id": "b780bd2f4d1ce2f2"
  },
  {
   "metadata": {},
   "cell_type": "markdown",
   "source": [
    "### 클래스 변수\n",
    "인스턴스 변수가 아닌 클래스 변수```클래스이름.클래스변수이름```\n",
    "### 클래스 함수\n",
    "클랴스 데코레이터 사용 @classmethod\n",
    "<br><br>\n",
    "- self : 인스턴스 자신\n",
    "- cls : 클래스 자신"
   ],
   "id": "b46a550747df7c85"
  },
  {
   "metadata": {
    "ExecuteTime": {
     "end_time": "2025-04-29T06:15:37.008413Z",
     "start_time": "2025-04-29T06:15:37.005787Z"
    }
   },
   "cell_type": "code",
   "source": [
    "class Oz:\n",
    "    count=0\n",
    "\n",
    "    @classmethod\n",
    "    def print(cls):\n",
    "        print('인스턴스를 만들지 않고 사용가능(클래스변수 접근 가능)', cls.count)\n",
    "\n",
    "    def __init__(self):\n",
    "        Oz.count+=1\n",
    "        print(Oz.count)\n",
    "\n",
    "\n",
    "\n",
    "list_oz=[Oz(),Oz(),Oz()]\n",
    "Oz.print()"
   ],
   "id": "3234d1e57b0371ae",
   "outputs": [
    {
     "name": "stdout",
     "output_type": "stream",
     "text": [
      "1\n",
      "2\n",
      "3\n",
      "인스턴스를 만들지 않고 사용가능(클래스변수 접근 가능) 3\n"
     ]
    }
   ],
   "execution_count": 7
  },
  {
   "metadata": {},
   "cell_type": "markdown",
   "source": [
    "## 프라이빗 변수\n",
    "'__'를 변수앞에 붙여서 접근을 막는다"
   ],
   "id": "e06e68de81d7ae52"
  },
  {
   "metadata": {
    "ExecuteTime": {
     "end_time": "2025-04-29T06:28:16.007926Z",
     "start_time": "2025-04-29T06:28:15.994807Z"
    }
   },
   "cell_type": "code",
   "source": [
    "class Oz:\n",
    "    def __init__(self, name):\n",
    "        self.__name=name\n",
    "\n",
    "me=Oz('김다은')\n",
    "print(me.name)      #프라이빗 변수가 되면 바로 접근할 수 없게 된다"
   ],
   "id": "2899a704f8bdb368",
   "outputs": [
    {
     "ename": "AttributeError",
     "evalue": "'Oz' object has no attribute 'name'",
     "output_type": "error",
     "traceback": [
      "\u001B[31m---------------------------------------------------------------------------\u001B[39m",
      "\u001B[31mAttributeError\u001B[39m                            Traceback (most recent call last)",
      "\u001B[36mCell\u001B[39m\u001B[36m \u001B[39m\u001B[32mIn[11]\u001B[39m\u001B[32m, line 6\u001B[39m\n\u001B[32m      3\u001B[39m         \u001B[38;5;28mself\u001B[39m.__name=name\n\u001B[32m      5\u001B[39m me=Oz(\u001B[33m'\u001B[39m\u001B[33m김다은\u001B[39m\u001B[33m'\u001B[39m)\n\u001B[32m----> \u001B[39m\u001B[32m6\u001B[39m \u001B[38;5;28mprint\u001B[39m(\u001B[43mme\u001B[49m\u001B[43m.\u001B[49m\u001B[43mname\u001B[49m)      \u001B[38;5;66;03m#프라이빗 변수가 되면 바로 접근할 수 없게 된다\u001B[39;00m\n",
      "\u001B[31mAttributeError\u001B[39m: 'Oz' object has no attribute 'name'"
     ]
    }
   ],
   "execution_count": 11
  },
  {
   "metadata": {},
   "cell_type": "markdown",
   "source": [
    "## 특수 메소드\n",
    "클래스.함수()가 아닌 str(), == 같은 메소드를 바꿀 수 있다\n",
    "- __str__()이 호출되는 경우\n",
    "    1. print(객체)\n",
    "    2. str(객체)\n",
    "    3. f\"{객체}\" (f-string 내에서 사용될 때)\n",
    "<br><br>\n",
    "- __eq__\n",
    "- 클래스 객체끼리는 기본적으로 ==는 주소(객체 ID) 비교예요.\n",
    "  즉, __eq__를 정의하지 않으면 book1 == book2는 False가 됩니다, 설령 내용이 같아도요."
   ],
   "id": "13ac6b723677c3c3"
  },
  {
   "metadata": {
    "ExecuteTime": {
     "end_time": "2025-04-29T07:42:30.415615Z",
     "start_time": "2025-04-29T07:42:30.412522Z"
    }
   },
   "cell_type": "code",
   "source": [
    "class Book:\n",
    "    def __init__(self, title, author):\n",
    "        self.title=title\n",
    "        self.author=author\n",
    "    def __str__(self):\n",
    "        return f\"제목: [{self.title}], 저자: [{self.author}]\"\n",
    "\n",
    "b1=Book('모두의 딥러닝','조태호')\n",
    "b2=Book('모두의 딥러닝','조태호')\n",
    "print(b1)\n",
    "print(b1==b2)"
   ],
   "id": "c72f7ab706176a68",
   "outputs": [
    {
     "name": "stdout",
     "output_type": "stream",
     "text": [
      "제목: [모두의 딥러닝], 저자: [조태호]\n",
      "False\n"
     ]
    }
   ],
   "execution_count": 32
  },
  {
   "metadata": {},
   "cell_type": "markdown",
   "source": [
    "## 클래스의 상속\n",
    "- 다중상속 : 상속은 기존 클래스의 추가나 변경을 하는 정도라면 다중 상속은 각각의 클래스에서 원하는 속성 또는 기능만 뽑아 사용하는 것"
   ],
   "id": "95b6c44784c9b576"
  },
  {
   "metadata": {
    "ExecuteTime": {
     "end_time": "2025-04-29T07:08:45.767372Z",
     "start_time": "2025-04-29T07:08:45.764262Z"
    }
   },
   "cell_type": "code",
   "source": [
    "class Car:\n",
    "    def __init__(self):\n",
    "        print('init car')\n",
    "        self.battery=1000\n",
    "\n",
    "    def print(self):\n",
    "        print(100)\n",
    "\n",
    "class HybridCar(Car):\n",
    "    def __init__(self):\n",
    "        super().__init__()\n",
    "        print('init HybridCar')\n",
    "\n",
    "class ElectricCar(HybridCar):\n",
    "    def __init__(self):\n",
    "        super().__init__()\n",
    "        print('init ElectricCar')\n",
    "        self.speed=200\n",
    "\n",
    "    def print(self):           #오버라이딩 : 메서드를 덮어쓴다\n",
    "        print(200)\n",
    "\n",
    "carH=HybridCar()\n",
    "carE=ElectricCar()\n",
    "print(carE.speed, carE.battery)\n",
    "carH.print()\n",
    "carE.print()"
   ],
   "id": "cee6cac023f4ad5d",
   "outputs": [
    {
     "name": "stdout",
     "output_type": "stream",
     "text": [
      "init car\n",
      "init HybridCar\n",
      "init car\n",
      "init HybridCar\n",
      "init ElectricCar\n",
      "200 1000\n",
      "100\n",
      "200\n"
     ]
    }
   ],
   "execution_count": 29
  }
 ],
 "metadata": {
  "kernelspec": {
   "display_name": "Python 3",
   "language": "python",
   "name": "python3"
  },
  "language_info": {
   "codemirror_mode": {
    "name": "ipython",
    "version": 2
   },
   "file_extension": ".py",
   "mimetype": "text/x-python",
   "name": "python",
   "nbconvert_exporter": "python",
   "pygments_lexer": "ipython2",
   "version": "2.7.6"
  }
 },
 "nbformat": 4,
 "nbformat_minor": 5
}
