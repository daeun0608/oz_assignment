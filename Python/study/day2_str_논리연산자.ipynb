{
 "cells": [
  {
   "cell_type": "code",
   "execution_count": 2,
   "id": "2eac261e",
   "metadata": {},
   "outputs": [
    {
     "name": "stdout",
     "output_type": "stream",
     "text": [
      "1\n",
      "3\n"
     ]
    }
   ],
   "source": [
    "# 변수 만들어 값 할당하기\n",
    "n1, n2 = 1, 3\n",
    "print(n1)\n",
    "print(n2)"
   ]
  },
  {
   "cell_type": "markdown",
   "id": "ed05e3cb",
   "metadata": {},
   "source": [
    "\" = \" : 할당 연산자  \n",
    "\" + \" : 산술 연산자  \n",
    "\" sum = sum + 2 \" = \" sum+=2 \"  \n",
    "\n",
    "<br>\n",
    "\n",
    "파이썬은 값을 선언하지 않으면 오류가 남, 선언이라고 생각하지 않고 호출이라고 보기 때문에\n",
    "초기화 하지 않고 변수에 어떤값도 넣지 않고 선언하는 법  \n",
    "> nothing = None\n",
    "\n",
    "<br>\n",
    "\n",
    "snake_case  \n",
    "camelCase  \n",
    "\n",
    "<br>\n",
    "\n",
    "코드 컨벤션 : 개발에 관련된 여러 조건을 명시하는 것  \n",
    "ex) 변수를 만들 때 스네이크 방식으로 진행합니다. 언더바는 2개를 적용시켜주세요."
   ]
  },
  {
   "cell_type": "code",
   "execution_count": 9,
   "id": "bc54e4cd",
   "metadata": {},
   "outputs": [
    {
     "name": "stdout",
     "output_type": "stream",
     "text": [
      "주문이 완료되었습니다. 붕어빵(슈크림) 2개, 붕어빵(잡채) 3개 총 5개의 결제 금액은 14000 \n"
     ]
    }
   ],
   "source": [
    "\"\"\"\n",
    "print() 포메팅 3가지\n",
    "1. f-sting : print( f'{}')\n",
    "\"\"\"\n",
    "\n",
    "# 팥 붕아빵 2000, 슈크림 붕어빵 2500, 잡채 붕어빵 3000원\n",
    "# 변수는 스네이크 케이스, 언더바는 2개\n",
    "b1, b2, b3 = '붕어빵(팥)','붕어빵(슈크림)','붕어빵(잡채)'\n",
    "b1__money, b2__money, b3__money = 2000, 2500, 3000\n",
    "print(f'주문이 완료되었습니다. {b2} 2개, {b3} 3개 총 5개의 결제 금액은 {b2__money*2+b3__money*3} ')"
   ]
  },
  {
   "cell_type": "markdown",
   "id": "e0de2341",
   "metadata": {},
   "source": [
    "### 자료형 종류\n",
    "1. int(integer)\n",
    "2. float(float)\n",
    "3. str(string)\n",
    "4. bool(bool, boolean) : True / False, 1 /0\n",
    "<br><br>\n",
    "\n",
    "5. list\n",
    "6. tuple\n",
    "7. dic\n",
    "8. set"
   ]
  },
  {
   "cell_type": "code",
   "execution_count": 38,
   "id": "3929170e",
   "metadata": {},
   "outputs": [
    {
     "name": "stdout",
     "output_type": "stream",
     "text": [
      "<class 'str'>\n",
      "<class 'float'>\n"
     ]
    }
   ],
   "source": [
    "print(type('box'))\n",
    "print(type(1.0))"
   ]
  },
  {
   "cell_type": "code",
   "execution_count": 15,
   "id": "10c71c8d",
   "metadata": {},
   "outputs": [
    {
     "name": "stdout",
     "output_type": "stream",
     "text": [
      "['__abs__', '__add__', '__and__', '__bool__', '__ceil__', '__class__', '__delattr__', '__dir__', '__divmod__', '__doc__', '__eq__', '__float__', '__floor__', '__floordiv__', '__format__', '__ge__', '__getattribute__', '__getnewargs__', '__getstate__', '__gt__', '__hash__', '__index__', '__init__', '__init_subclass__', '__int__', '__invert__', '__le__', '__lshift__', '__lt__', '__mod__', '__mul__', '__ne__', '__neg__', '__new__', '__or__', '__pos__', '__pow__', '__radd__', '__rand__', '__rdivmod__', '__reduce__', '__reduce_ex__', '__repr__', '__rfloordiv__', '__rlshift__', '__rmod__', '__rmul__', '__ror__', '__round__', '__rpow__', '__rrshift__', '__rshift__', '__rsub__', '__rtruediv__', '__rxor__', '__setattr__', '__sizeof__', '__str__', '__sub__', '__subclasshook__', '__truediv__', '__trunc__', '__xor__', 'as_integer_ratio', 'bit_count', 'bit_length', 'conjugate', 'denominator', 'from_bytes', 'imag', 'is_integer', 'numerator', 'real', 'to_bytes']\n",
      "4\n",
      "0b1010\n"
     ]
    }
   ],
   "source": [
    "# int(5.0) : 형변환 (실수 > 정수)\n",
    "age = 10\n",
    "print(dir(age)) # 타입이 가진 메소드들을 보여줌\n",
    "print(age.bit_length()) # 정수 bit 크기\n",
    "print(bin(age))"
   ]
  },
  {
   "cell_type": "code",
   "id": "70bed6cc",
   "metadata": {
    "ExecuteTime": {
     "end_time": "2025-04-28T01:25:54.249434Z",
     "start_time": "2025-04-28T01:25:54.245766Z"
    }
   },
   "source": [
    "\"\"\"\n",
    "str : 문자열 (시퀸스 자료형)\n",
    "    시퀸스 : 요소들이 연속적으로 이어진 자료형\n",
    "        요소 : 값 하나하나\n",
    "\"\"\"\n",
    "alpha=\"abcdefg\"\n",
    "print(alpha[3]) # 인덱스는 0부터, 'd'가 나온다\n",
    "print('e' in alpha) # 내장 함수 : 요소가 있는지 없는지 반환하는 문법\n",
    "newAlpha=alpha.replace('a', 'new a')    #대체한 값을 반환함\n",
    "\n",
    "\n",
    "\n",
    "# 파이썬에서 시퀸스여서 가능한 것!\n",
    "'13'+'금요일'                   # 시퀸스 합치기 (13+'금요일'은 정수+문자열이여서 안됨)\n",
    "옛날게임='바니바니'*3              # 시퀸스 복사\n",
    "\n",
    "print(len(옛날게임))             # 길이를 알아보는 메서드\n",
    "사과='apple'\n",
    "print(사과.count('p'))          # 원하는 요소의 개수\n",
    "print('p의 위치:',사과.index('p'))          # 원하는 요소가 위치한 인덱스\n",
    "\n",
    "퀴즈='차 4대가 고장나면? 카포에라'\n",
    "print(퀴즈[12:16])              # 슬라이싱, 뒤는 인덱스+1값을 넣어주어야함\n",
    "print(퀴즈[15])\n",
    "print(퀴즈[-1])"
   ],
   "outputs": [
    {
     "name": "stdout",
     "output_type": "stream",
     "text": [
      "d\n",
      "True\n",
      "12\n",
      "2\n",
      "p의 위치: 1\n",
      "카포에라\n",
      "라\n",
      "라\n"
     ]
    }
   ],
   "execution_count": 2
  },
  {
   "cell_type": "code",
   "execution_count": 29,
   "id": "251a8dc1",
   "metadata": {},
   "outputs": [
    {
     "name": "stdout",
     "output_type": "stream",
     "text": [
      "0123456789\n",
      "0123456789\n",
      "9876543210\n",
      "02468\n"
     ]
    }
   ],
   "source": [
    "#슬라이싱\n",
    "num='0123456789'\n",
    "print(num[:])           # 전체출력\n",
    "print(num[::])         \n",
    "print(num[::-1])           # 거꾸로 출력\n",
    "print(num[::2])           # 2씩출력"
   ]
  },
  {
   "cell_type": "code",
   "id": "51342c64",
   "metadata": {
    "ExecuteTime": {
     "end_time": "2025-04-22T02:22:16.594802Z",
     "start_time": "2025-04-22T02:22:16.584706Z"
    }
   },
   "source": [
    "# == : 같다     != : 다르다     is : 저장위치가 같다\n",
    "print(3.0 is 3)\n",
    "a=500\n",
    "b=500\n",
    "print(a is b)\n",
    "\"\"\"\n",
    "- is 연산자를 값 비교에 쓰면 안되는 이유는\n",
    "is 연산자는 변수가 저장된 장소가 같은지 확인하는 연산자인데\n",
    "정수 256까지는 재활용하지만 그 외는 각각의 객체가 되서 False가 나온다.\n",
    "\n",
    "a=500   b=a <위치를 주어야지만 is를 썼을 때 True가 된다\n",
    "\"\"\""
   ],
   "outputs": [
    {
     "name": "stdout",
     "output_type": "stream",
     "text": [
      "False\n",
      "False\n"
     ]
    },
    {
     "name": "stderr",
     "output_type": "stream",
     "text": [
      "<>:2: SyntaxWarning: \"is\" with 'float' literal. Did you mean \"==\"?\n",
      "<>:2: SyntaxWarning: \"is\" with 'float' literal. Did you mean \"==\"?\n",
      "/var/folders/b3/l93bstbs0m95dtx147zsxg8m0000gn/T/ipykernel_35781/1067239895.py:2: SyntaxWarning: \"is\" with 'float' literal. Did you mean \"==\"?\n",
      "  print(3.0 is 3)\n"
     ]
    },
    {
     "data": {
      "text/plain": [
       "'\\n- is 연산자를 값 비교에 쓰면 안되는 이유는\\nis 연산자는 변수가 저장된 장소가 같은지 확인하는 연산자인데\\n정수 256까지는 재활용하지만 그 외는 각각의 객체가 되서 False가 나온다.\\n\\na=500   b=a <위치를 주어야지만 is를 썼을 때 True가 된다\\n'"
      ]
     },
     "execution_count": 2,
     "metadata": {},
     "output_type": "execute_result"
    }
   ],
   "execution_count": 2
  },
  {
   "cell_type": "markdown",
   "id": "c0efb802",
   "metadata": {},
   "source": [
    "### 논리연산자\n",
    "- T and F\n",
    "- T or F\n",
    "- not T\n",
    "\n",
    "__단락평가__   \n",
    "print(__False and__ ---) : 이미 False여서 뒤의 조건을 생략함 (리소스 절약!)  \n",
    "print(__True and__ '힘들어요') : 앞이 참이여서 생략하고 뒤의 것을 출력한다. '힘들어요' 출력"
   ]
  },
  {
   "cell_type": "code",
   "execution_count": 39,
   "id": "2784b428",
   "metadata": {},
   "outputs": [
    {
     "data": {
      "text/plain": [
       "True"
      ]
     },
     "execution_count": 39,
     "metadata": {},
     "output_type": "execute_result"
    }
   ],
   "source": [
    "bool('문자열')"
   ]
  }
 ],
 "metadata": {
  "kernelspec": {
   "display_name": "Python 3",
   "language": "python",
   "name": "python3"
  },
  "language_info": {
   "codemirror_mode": {
    "name": "ipython",
    "version": 3
   },
   "file_extension": ".py",
   "mimetype": "text/x-python",
   "name": "python",
   "nbconvert_exporter": "python",
   "pygments_lexer": "ipython3",
   "version": "3.12.6"
  }
 },
 "nbformat": 4,
 "nbformat_minor": 5
}
