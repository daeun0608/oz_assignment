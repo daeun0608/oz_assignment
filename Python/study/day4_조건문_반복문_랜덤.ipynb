{
 "cells": [
  {
   "metadata": {},
   "cell_type": "markdown",
   "source": "# if",
   "id": "b71b50f2"
  },
  {
   "metadata": {
    "ExecuteTime": {
     "end_time": "2025-04-28T01:51:46.901135Z",
     "start_time": "2025-04-28T01:51:46.898171Z"
    }
   },
   "cell_type": "code",
   "source": [
    "if True :           #조건식\n",
    "    print(\"만족\")\n",
    "else:\n",
    "    print(\"불만족\")\n",
    "\n",
    "\n",
    "\n",
    "if '' :             #문자와 0이 아닌 수(실수포함)는 True이다\n",
    "    print(\"조건식에 not ''로 식을 간소화 할 수 있음\")\n",
    "else:\n",
    "    print(\"빈공간 입니다, 다시 작성하세요\")\n",
    "\n",
    "\n",
    "\n",
    "if False:\n",
    "    a=1\n",
    "elif True:\n",
    "    a=2\n",
    "else:\n",
    "    a=3\n"
   ],
   "id": "fd2b6e8a",
   "outputs": [
    {
     "name": "stdout",
     "output_type": "stream",
     "text": [
      "만족\n",
      "빈공간 입니다, 다시 작성하세요\n"
     ]
    }
   ],
   "execution_count": 2
  },
  {
   "cell_type": "markdown",
   "id": "898f9f5f",
   "metadata": {},
   "source": [
    "# for"
   ]
  },
  {
   "cell_type": "code",
   "execution_count": 7,
   "id": "07aa36c1",
   "metadata": {},
   "outputs": [
    {
     "name": "stdout",
     "output_type": "stream",
     "text": [
      "토끼\n",
      "사자\n",
      "푸바오\n",
      "0\n",
      "1\n",
      "2\n",
      "13\n"
     ]
    }
   ],
   "source": [
    "for 동물 in (\"토끼\",\"사자\",\"푸바오\"):\n",
    "    print(동물)\n",
    "    \n",
    "    \n",
    "for i in range(3):      #in 뒤의 리스트를 생성하고 반복하기 때문에 reversed(list)하면 뒤집어져서 입력됨\n",
    "    print(i)\n",
    "    \n",
    "    \n",
    "num=[10,5,8]\n",
    "sign=[True,False,True]\n",
    "sum=0\n",
    "for n, s in zip(num, sign):\n",
    "    if(s):\n",
    "        sum+=n\n",
    "    else:\n",
    "        sum-=n\n",
    "print(sum)"
   ]
  },
  {
   "cell_type": "markdown",
   "id": "11607d1a",
   "metadata": {},
   "source": [
    "# while\n",
    "- for보다 강점인 것\n",
    "    - 무수히 많거나 반복횟수를 알 수 없을 때 사용"
   ]
  },
  {
   "cell_type": "code",
   "execution_count": 15,
   "id": "f58a752b",
   "metadata": {},
   "outputs": [
    {
     "name": "stdout",
     "output_type": "stream",
     "text": [
      "13\n",
      "2\n",
      "4\n",
      "6\n",
      "8\n",
      "10\n"
     ]
    }
   ],
   "source": [
    "i=13\n",
    "while(i<10):\n",
    "    print(i)\n",
    "    i+=1\n",
    "    if i==5:\n",
    "        break   #for문도 가능\n",
    "else:           #처음부터 조건을 만족하지 않을 때 출력\n",
    "    print(i)\n",
    "    \n",
    "    \n",
    "i=0\n",
    "while i<10:\n",
    "    i+=1\n",
    "    if i%2==1:\n",
    "        continue\n",
    "    print(i)"
   ]
  },
  {
   "metadata": {},
   "cell_type": "markdown",
   "source": "## 랜덤함수",
   "id": "379d1fe7a843d09b"
  },
  {
   "cell_type": "code",
   "id": "23f2f854",
   "metadata": {
    "ExecuteTime": {
     "end_time": "2025-04-28T01:51:43.865264Z",
     "start_time": "2025-04-28T01:51:43.862180Z"
    }
   },
   "source": [
    "import random\n",
    "print(random.random())\n",
    "print(random.randint(1,6))\n",
    "\n",
    "i=0\n",
    "while i != 4:\n",
    "    i=random.randint(1,6)\n",
    "    print(i)\n",
    "\n",
    "fruits = ['apple', 'banana', 'cherry']\n",
    "pick = random.choice(fruits)\n",
    "print(pick)"
   ],
   "outputs": [
    {
     "name": "stdout",
     "output_type": "stream",
     "text": [
      "0.845487952877178\n",
      "3\n",
      "5\n",
      "3\n",
      "1\n",
      "4\n",
      "banana\n"
     ]
    }
   ],
   "execution_count": 1
  },
  {
   "cell_type": "code",
   "execution_count": 29,
   "id": "e1f1ab49",
   "metadata": {},
   "outputs": [
    {
     "name": "stdout",
     "output_type": "stream",
     "text": [
      "주문이 완료되었습니다.\n",
      "붕어빵(팥) 1개\n",
      "붕어빵(슈크림) 2개\n",
      "붕어빵(잡채) 3개\n",
      "총 6개 결제 금액은 16000원 입니다\n"
     ]
    }
   ],
   "source": [
    "fish={'붕어빵(팥)':2000, \"붕어빵(슈크림)\":2500, \"붕어빵(잡채)\":3000}\n",
    "orderList={}\n",
    "total=0\n",
    "\n",
    "for orderfish in fish.keys():\n",
    "    order=int(input(f\"{orderfish}을 몇 개 주문할까요?\"))\n",
    "    orderList.update({orderfish:order})\n",
    "    total+=fish[orderfish] * order\n",
    "    \n",
    "print(f'주문이 완료되었습니다.')\n",
    "for orderfish in fish.keys():\n",
    "    print(f'{orderfish} {orderList[orderfish]}개')\n",
    "print(f'총 {sum(orderList.values())}개 결제 금액은 {total}원 입니다')"
   ]
  }
 ],
 "metadata": {
  "kernelspec": {
   "display_name": "Python 3",
   "language": "python",
   "name": "python3"
  },
  "language_info": {
   "codemirror_mode": {
    "name": "ipython",
    "version": 3
   },
   "file_extension": ".py",
   "mimetype": "text/x-python",
   "name": "python",
   "nbconvert_exporter": "python",
   "pygments_lexer": "ipython3",
   "version": "3.12.6"
  }
 },
 "nbformat": 4,
 "nbformat_minor": 5
}
