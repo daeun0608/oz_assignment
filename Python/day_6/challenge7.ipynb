{
 "cells": [
  {
   "metadata": {},
   "cell_type": "markdown",
   "source": [
    "### ch21<br>\n",
    "사용자로부터 이름과 나이를 입력 받아, \"안녕하세요, [이름]님! 당신은 [나이]살입니다.\"라고 출력하는 함수 greet_user를 작성하세요."
   ],
   "id": "d961a19de1b8aa1"
  },
  {
   "metadata": {
    "ExecuteTime": {
     "end_time": "2025-04-24T00:42:08.135871Z",
     "start_time": "2025-04-24T00:41:58.213248Z"
    }
   },
   "cell_type": "code",
   "source": [
    "def greet_user(name, age):\n",
    "    print(f'안녕하세요, {name}님! 당신은 {age}살입니다.'    )\n",
    "\n",
    "name=input('이름 : ')\n",
    "age=input('나이 : ')\n",
    "greet_user(name, age)"
   ],
   "id": "bc195296a80b9319",
   "outputs": [
    {
     "name": "stdout",
     "output_type": "stream",
     "text": [
      "안녕하세요, 마루코님! 당신은 9살입니다.\n"
     ]
    }
   ],
   "execution_count": 2
  },
  {
   "metadata": {},
   "cell_type": "markdown",
   "source": [
    "### ch22<br>\n",
    "여러 숫자를 입력받아 그 합계를 반환하는 함수 sum_numbers를 작성하세요. 이 때, 가변 매개변수를 사용하세요.\n",
    "def"
   ],
   "id": "f6c112f70304fdc"
  },
  {
   "metadata": {
    "ExecuteTime": {
     "end_time": "2025-04-24T01:00:33.526277Z",
     "start_time": "2025-04-24T01:00:30.135488Z"
    }
   },
   "cell_type": "code",
   "source": [
    "def sum_numbers(*num):\n",
    "    return sum(num)\n",
    "\n",
    "num=map(int,input('숫자 입력(,) : ').split(','))\n",
    "print(sum_numbers(*num))\n"
   ],
   "id": "2ff4ad8efc1521d7",
   "outputs": [
    {
     "name": "stdout",
     "output_type": "stream",
     "text": [
      "6\n"
     ]
    }
   ],
   "execution_count": 14
  },
  {
   "metadata": {},
   "cell_type": "markdown",
   "source": [
    "### ch23<br>\n",
    "사용자의 이름을 출력하는 함수 print_name을 작성하세요. 만약 이름이 주어지지 않았다면, 기본값으로 \"익명\"을 사용하세요."
   ],
   "id": "7d786933633d0aec"
  },
  {
   "metadata": {
    "ExecuteTime": {
     "end_time": "2025-04-24T01:05:57.980825Z",
     "start_time": "2025-04-24T01:05:57.978667Z"
    }
   },
   "cell_type": "code",
   "source": [
    "def print_name(name='익명'):\n",
    "    print(name)\n",
    "print_name()"
   ],
   "id": "a09e22afd0631085",
   "outputs": [
    {
     "name": "stdout",
     "output_type": "stream",
     "text": [
      "익명\n"
     ]
    }
   ],
   "execution_count": 15
  },
  {
   "metadata": {},
   "cell_type": "markdown",
   "source": [
    "### ch24<br>\n",
    "사용자의 이름, 나이, 성별을 출력하는 함수 print_info를 작성하세요. 이 때, 모든 매개변수는 키워드 매개변수로만 받도록 하세요."
   ],
   "id": "9718a2fa57657be5"
  },
  {
   "metadata": {
    "ExecuteTime": {
     "end_time": "2025-04-24T02:43:13.882675Z",
     "start_time": "2025-04-24T02:43:13.879966Z"
    }
   },
   "cell_type": "code",
   "source": [
    "def print_info(*,name, age, gender):\n",
    "    print(name, age, gender)\n",
    "print_info(name='마루코',age=9,gender='여자')"
   ],
   "id": "f82b98db0db834f6",
   "outputs": [
    {
     "name": "stdout",
     "output_type": "stream",
     "text": [
      "마루코 9 여자\n"
     ]
    }
   ],
   "execution_count": 38
  },
  {
   "metadata": {
    "ExecuteTime": {
     "end_time": "2025-04-24T01:09:36.068243Z",
     "start_time": "2025-04-24T01:09:36.053397Z"
    }
   },
   "cell_type": "code",
   "source": "print_info('마루코',9,'여자')",
   "id": "4e794f4d39529f8e",
   "outputs": [
    {
     "ename": "TypeError",
     "evalue": "print_info() takes 0 positional arguments but 3 were given",
     "output_type": "error",
     "traceback": [
      "\u001B[31m---------------------------------------------------------------------------\u001B[39m",
      "\u001B[31mTypeError\u001B[39m                                 Traceback (most recent call last)",
      "\u001B[36mCell\u001B[39m\u001B[36m \u001B[39m\u001B[32mIn[18]\u001B[39m\u001B[32m, line 4\u001B[39m\n\u001B[32m      1\u001B[39m \u001B[38;5;28;01mdef\u001B[39;00m\u001B[38;5;250m \u001B[39m\u001B[34mprint_info\u001B[39m(*,name, age, gender):\n\u001B[32m      2\u001B[39m     \u001B[38;5;28mprint\u001B[39m(name, age, gender)\n\u001B[32m----> \u001B[39m\u001B[32m4\u001B[39m \u001B[43mprint_info\u001B[49m\u001B[43m(\u001B[49m\u001B[33;43m'\u001B[39;49m\u001B[33;43m마루코\u001B[39;49m\u001B[33;43m'\u001B[39;49m\u001B[43m,\u001B[49m\u001B[32;43m9\u001B[39;49m\u001B[43m,\u001B[49m\u001B[33;43m'\u001B[39;49m\u001B[33;43m여자\u001B[39;49m\u001B[33;43m'\u001B[39;49m\u001B[43m)\u001B[49m\n",
      "\u001B[31mTypeError\u001B[39m: print_info() takes 0 positional arguments but 3 were given"
     ]
    }
   ],
   "execution_count": 18
  },
  {
   "metadata": {},
   "cell_type": "markdown",
   "source": [
    "### ch25<br>\n",
    "두 개의 정수를 받아 합을 반환하는 함수 add를 작성하세요. 매개변수와 반환값에 타입 어노테이션을 추가하세요."
   ],
   "id": "2a13a3c865b7dac7"
  },
  {
   "metadata": {
    "ExecuteTime": {
     "end_time": "2025-04-24T01:39:27.169023Z",
     "start_time": "2025-04-24T01:39:23.429703Z"
    }
   },
   "cell_type": "code",
   "source": [
    "def add(a:int,b:int)->int:\n",
    "    return a+b\n",
    "a,b=map(int, input('두 개의 정수 : ').split(','))\n",
    "print(add(a,b))"
   ],
   "id": "258d5e23c6f124e1",
   "outputs": [
    {
     "name": "stdout",
     "output_type": "stream",
     "text": [
      "3\n"
     ]
    }
   ],
   "execution_count": 20
  },
  {
   "metadata": {},
   "cell_type": "markdown",
   "source": [
    "### ch26<br>\n",
    "0부터 시작하여 n까지의 숫자 중에서 홀수만 생성하는 제너레이터 odd_numbers를 작성하세요."
   ],
   "id": "7c79672b19538c49"
  },
  {
   "metadata": {
    "ExecuteTime": {
     "end_time": "2025-04-24T01:53:40.953977Z",
     "start_time": "2025-04-24T01:53:40.951460Z"
    }
   },
   "cell_type": "code",
   "source": [
    "def odd_numbers(n):\n",
    "    for i in range(n+1):\n",
    "        if i%2==1:\n",
    "            yield i\n",
    "for i in odd_numbers(9):\n",
    "    print(i,end=' ')"
   ],
   "id": "70ebf90e077645cb",
   "outputs": [
    {
     "name": "stdout",
     "output_type": "stream",
     "text": [
      "1 3 5 7 9 "
     ]
    }
   ],
   "execution_count": 27
  },
  {
   "metadata": {},
   "cell_type": "markdown",
   "source": [
    "### ch27<br>\n",
    "두 숫자를 더하는 람다 함수를 작성하고, 이를 변수에 할당한 후 사용하세요."
   ],
   "id": "50dba9e524ca3597"
  },
  {
   "metadata": {
    "ExecuteTime": {
     "end_time": "2025-04-24T01:54:30.185890Z",
     "start_time": "2025-04-24T01:54:30.182543Z"
    }
   },
   "cell_type": "code",
   "source": [
    "sum_num=lambda a,b : a+b\n",
    "print(sum_num(1,2))"
   ],
   "id": "5a3a7842a88b2090",
   "outputs": [
    {
     "name": "stdout",
     "output_type": "stream",
     "text": [
      "3\n"
     ]
    }
   ],
   "execution_count": 28
  },
  {
   "metadata": {},
   "cell_type": "markdown",
   "source": [
    "### ch28<br>\n",
    "사용자로부터 3개의 숫자를 입력받아, 이를 튜플로 만든 후 최소값과 최대값을 출력하는 함수 min_max를 작성하세요."
   ],
   "id": "f44cca6b7f17dfd7"
  },
  {
   "metadata": {
    "ExecuteTime": {
     "end_time": "2025-04-24T01:59:00.925Z",
     "start_time": "2025-04-24T01:58:57.297090Z"
    }
   },
   "cell_type": "code",
   "source": [
    "def min_max(tuple_num):\n",
    "    print(min(tuple_num))\n",
    "    print(max(tuple_num))\n",
    "\n",
    "tuple_num=tuple(input('3개의 숫자 입력(,)').split(','))\n",
    "min_max(tuple_num)"
   ],
   "id": "3812111d97f1c86f",
   "outputs": [
    {
     "name": "stdout",
     "output_type": "stream",
     "text": [
      "1\n",
      "3\n"
     ]
    }
   ],
   "execution_count": 31
  },
  {
   "metadata": {},
   "cell_type": "markdown",
   "source": [
    "### ch29<br>\n",
    "주어진 숫자가 짝수인지 확인하는 함수 is_even을 작성하세요. 짝수라면 True를, 아니라면 False를 반환하세요. 함수 내에서 조기 리턴을 활용하세요."
   ],
   "id": "38bc887cc1eea85b"
  },
  {
   "metadata": {
    "ExecuteTime": {
     "end_time": "2025-04-24T02:02:15.445628Z",
     "start_time": "2025-04-24T02:02:15.443290Z"
    }
   },
   "cell_type": "code",
   "source": [
    "def is_even(n):\n",
    "    if n%2==0:\n",
    "        return True\n",
    "    else:\n",
    "        return False\n",
    "\n",
    "print(is_even(1))\n",
    "print(is_even(2))"
   ],
   "id": "61a4c44460ff6ac4",
   "outputs": [
    {
     "name": "stdout",
     "output_type": "stream",
     "text": [
      "False\n",
      "True\n"
     ]
    }
   ],
   "execution_count": 32
  },
  {
   "metadata": {},
   "cell_type": "markdown",
   "source": [
    "### ch30<br>\n",
    "팩토리얼을 계산하는 재귀 함수 factorial을 작성하세요."
   ],
   "id": "2a1149831a1b9901"
  },
  {
   "metadata": {
    "ExecuteTime": {
     "end_time": "2025-04-24T02:04:40.877252Z",
     "start_time": "2025-04-24T02:04:40.873474Z"
    }
   },
   "cell_type": "code",
   "source": [
    "def factorial(n):\n",
    "    if n==1:\n",
    "        return 1\n",
    "    return n*factorial(n-1)\n",
    "factorial(5)"
   ],
   "id": "c54eaaf642360140",
   "outputs": [
    {
     "data": {
      "text/plain": [
       "120"
      ]
     },
     "execution_count": 33,
     "metadata": {},
     "output_type": "execute_result"
    }
   ],
   "execution_count": 33
  },
  {
   "metadata": {},
   "cell_type": "markdown",
   "source": [
    "### ch31<br>\n",
    "문자열 리스트를 받아, 각 문자열의 길이를 출력하는 함수 print_lengths를 작성하세요."
   ],
   "id": "b4bf7eb8b38d9494"
  },
  {
   "metadata": {
    "ExecuteTime": {
     "end_time": "2025-04-24T02:45:56.155910Z",
     "start_time": "2025-04-24T02:45:56.153850Z"
    }
   },
   "cell_type": "code",
   "source": [
    "def print_lengths(list_str):\n",
    "    for i in list_str:\n",
    "        print(f'{i}의 길이 {len(i)}')\n",
    "list_str=['qwe','asdf','zxcvb']\n",
    "print_lengths(list_str)"
   ],
   "id": "25f92043e6d7f19f",
   "outputs": [
    {
     "name": "stdout",
     "output_type": "stream",
     "text": [
      "qwe의 길이 3\n",
      "asdf의 길이 4\n",
      "zxcvb의 길이 5\n"
     ]
    }
   ],
   "execution_count": 39
  },
  {
   "metadata": {},
   "cell_type": "markdown",
   "source": [
    "### ch32<br>\n",
    "두 문자열을 받아서 긴 문자열을 반환하는 함수 longer_string을 작성하세요. 만약 두 문자열의 길이가 같다면, 첫 번째 문자열을 반환하세요."
   ],
   "id": "72b71b76ca92150b"
  },
  {
   "metadata": {
    "ExecuteTime": {
     "end_time": "2025-04-24T02:47:38.845027Z",
     "start_time": "2025-04-24T02:47:38.841779Z"
    }
   },
   "cell_type": "code",
   "source": [
    "def longer_string(str1, str2):\n",
    "    if len(str1)>=len(str2):\n",
    "        return str1\n",
    "    else:\n",
    "        return str2\n",
    "\n",
    "longer_string('qwe','asdf')"
   ],
   "id": "9e440a31b266f41f",
   "outputs": [
    {
     "data": {
      "text/plain": [
       "'asdf'"
      ]
     },
     "execution_count": 40,
     "metadata": {},
     "output_type": "execute_result"
    }
   ],
   "execution_count": 40
  }
 ],
 "metadata": {
  "kernelspec": {
   "display_name": "Python 3",
   "language": "python",
   "name": "python3"
  },
  "language_info": {
   "codemirror_mode": {
    "name": "ipython",
    "version": 2
   },
   "file_extension": ".py",
   "mimetype": "text/x-python",
   "name": "python",
   "nbconvert_exporter": "python",
   "pygments_lexer": "ipython2",
   "version": "2.7.6"
  }
 },
 "nbformat": 4,
 "nbformat_minor": 5
}
