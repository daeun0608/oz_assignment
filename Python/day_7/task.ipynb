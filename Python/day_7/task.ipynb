{
 "cells": [
  {
   "cell_type": "markdown",
   "metadata": {},
   "source": [
    "### task_1\n",
    "사용자로부터 두 개의 숫자를 입력받아 나눗셈을 수행하는 프로그램을 작성하세요.\n",
    "\n",
    "[예외처리]\n",
    "- 입력 값이 숫자가 아닐 때 발생할 수 있는 ValueError\n",
    "- 나누는 수가 0일 때 발생할 수 있는 ZeroDivisionError\n",
    "- 위 2가지 예외처리 후 사용자에게 이해하기 쉬운 메시지 작성 후 출력되도록 코드를 작성"
   ]
  },
  {
   "metadata": {
    "ExecuteTime": {
     "end_time": "2025-04-28T06:26:15.363580Z",
     "start_time": "2025-04-28T06:26:09.686232Z"
    }
   },
   "cell_type": "code",
   "source": [
    "try:\n",
    "    a,b=map(int,input('두 개의 숫자 입력').split())\n",
    "    print(a/b)\n",
    "except ValueError:\n",
    "    print('숫쟈를 입력하세요')\n",
    "except ZeroDivisionError:\n",
    "    print('0으로는 나눌 수 없습니다.')"
   ],
   "outputs": [
    {
     "name": "stdout",
     "output_type": "stream",
     "text": [
      "0으로는 나눌 수 없습니다.\n"
     ]
    }
   ],
   "execution_count": 12
  },
  {
   "metadata": {},
   "cell_type": "markdown",
   "source": [
    "### task_2\n",
    "파일을 읽어서 내용을 출력하는 프로그램을 작성하세요.\n",
    "\n",
    "- 파일이 존재하지 않을 때 발생하는 FileNotFoundError를 처리\n",
    "- 파일이 존재하지 않을 경우 \"파일을 찾을 수 없습니다.\"라는 메시지를 출력"
   ]
  },
  {
   "metadata": {
    "ExecuteTime": {
     "end_time": "2025-04-28T06:17:08.761337Z",
     "start_time": "2025-04-28T06:17:08.759114Z"
    }
   },
   "cell_type": "code",
   "source": [
    "try:\n",
    "    with open('test.txt','r') as f:\n",
    "        f.read()\n",
    "except FileNotFoundError:\n",
    "    print('파일을 찾을 수 없습니다.')"
   ],
   "outputs": [
    {
     "name": "stdout",
     "output_type": "stream",
     "text": [
      "파일을 찾을 수 없습니다.\n"
     ]
    }
   ],
   "execution_count": 6
  },
  {
   "metadata": {},
   "cell_type": "markdown",
   "source": [
    "### task_3\n",
    "사용자로부터 여러 개의 숫자를 입력받아 리스트에 저장한 후, 사용자가 'done'이라고 입력할 때까지 계속 입력받으세요.\n",
    "\n",
    "- 입력 중 숫자가 아닌 값이 입력되면 ValueError를 처리\n",
    "- 숫자 외 값이 입력된 경우 어떤 값이 잘못 입력되었는지 사용자에게 알려주는 문구 출력<br>\n",
    "  (예: f\"잘못된 값: {변수}. 숫자를 입력해주세요.\")\n",
    "\n"
   ]
  },
  {
   "metadata": {
    "ExecuteTime": {
     "end_time": "2025-04-28T06:25:42.934263Z",
     "start_time": "2025-04-28T06:25:32.153500Z"
    }
   },
   "cell_type": "code",
   "source": [
    "list_num=[]\n",
    "while True:\n",
    "    try:\n",
    "        x=input(\"숫자입력(중지:'done') : \")\n",
    "        if x=='done':\n",
    "            break\n",
    "        list_num.append(int(x))\n",
    "    except ValueError:\n",
    "        print(f'잘못된 값: {x}. 숫자를 입력해주세요.')\n",
    "\n",
    "print(list_num)"
   ],
   "outputs": [
    {
     "name": "stdout",
     "output_type": "stream",
     "text": [
      "잘못된 값: a. 숫자를 입력해주세요.\n",
      "잘못된 값: b. 숫자를 입력해주세요.\n",
      "[1, 2, 3]\n"
     ]
    }
   ],
   "execution_count": 11
  },
  {
   "metadata": {},
   "cell_type": "markdown",
   "source": [
    "### task_4\n",
    "사용자 정의 예외 NegativeNumberError를 생성하고, 사용자로부터 숫자를 입력받아 음수일 경우 NegativeNumberError를 발생시키는 프로그램을 작성하세요.\n",
    "\n",
    "- 예외 처리 구문을 사용하여 음수 입력 시 \"양수를 입력해주세요.\"라는 메시지를 출력"
   ]
  },
  {
   "metadata": {
    "ExecuteTime": {
     "end_time": "2025-04-28T06:33:06.293647Z",
     "start_time": "2025-04-28T06:33:03.762266Z"
    }
   },
   "cell_type": "code",
   "source": [
    "class NegativeNumberError(Exception):\n",
    "    pass\n",
    "\n",
    "try:\n",
    "    x=int(input(\"숫자입력 : \"))\n",
    "    if x<0:\n",
    "        raise NegativeNumberError\n",
    "except NegativeNumberError:\n",
    "    print('양수를 입력해주세요.')"
   ],
   "outputs": [
    {
     "name": "stdout",
     "output_type": "stream",
     "text": [
      "양수를 입력해주세요.\n"
     ]
    }
   ],
   "execution_count": 16
  },
  {
   "metadata": {},
   "cell_type": "markdown",
   "source": [
    "### task_5\n",
    "datetime 모듈을 사용하여 현재 날짜와 시간을 출력하는 프로그램을 작성하세요.\n",
    "\n",
    "또한, 사용자로부터 태어난 년도를 입력받아 현재 나이를 계산하여 출력하세요."
   ]
  },
  {
   "metadata": {
    "ExecuteTime": {
     "end_time": "2025-04-28T06:39:24.151864Z",
     "start_time": "2025-04-28T06:39:19.960294Z"
    }
   },
   "cell_type": "code",
   "source": [
    "import datetime\n",
    "\n",
    "now=datetime.datetime.now()\n",
    "print(now)\n",
    "\n",
    "age=int(input('태어난 년도 : '))\n",
    "print('현재 나이는',now.year-age+1,'입니다.')"
   ],
   "outputs": [
    {
     "name": "stdout",
     "output_type": "stream",
     "text": [
      "2025-04-28 15:39:19.961064\n",
      "현재 나이는 26 입니다.\n"
     ]
    }
   ],
   "execution_count": 19
  },
  {
   "metadata": {},
   "cell_type": "markdown",
   "source": [
    "### task_6\n",
    "requests 모듈을 사용하여, 웹 페이지의 HTML을 가져오는 간단한 웹 스크레이퍼를 작성하세요.\n",
    "\n",
    "'https://kream.co.kr/'에서<br>\n",
    "데이터를 가져와서 상태 코드와 HTML의 첫 100자를 출력하세요.<br>\n",
    "(실습 전 requests 모듈을 설치해야 함)"
   ]
  },
  {
   "metadata": {
    "ExecuteTime": {
     "end_time": "2025-04-28T06:55:21.625559Z",
     "start_time": "2025-04-28T06:55:11.494113Z"
    }
   },
   "cell_type": "code",
   "source": [
    "import requests\n",
    "\n",
    "headers = {\n",
    "    \"User-Agent\": \"Mozilla/5.0 (Macintosh; Intel Mac OS X 10_15_7) AppleWebKit/537.36 (KHTML, like Gecko) Chrome/123.0.0.0 Safari/537.36\",\n",
    "    \"Referer\": \"https://kream.co.kr/\"\n",
    "}\n",
    "\n",
    "response = requests.get(\"https://kream.co.kr/\", headers=headers, verify=False)\n",
    "\n",
    "print(response.text[:100])"
   ],
   "outputs": [
    {
     "name": "stderr",
     "output_type": "stream",
     "text": [
      "/Library/Frameworks/Python.framework/Versions/3.12/lib/python3.12/site-packages/urllib3/connectionpool.py:1097: InsecureRequestWarning: Unverified HTTPS request is being made to host 'kream.co.kr'. Adding certificate verification is strongly advised. See: https://urllib3.readthedocs.io/en/latest/advanced-usage.html#tls-warnings\n",
      "  warnings.warn(\n"
     ]
    },
    {
     "name": "stdout",
     "output_type": "stream",
     "text": [
      "<!DOCTYPE html>\n",
      "<html lang=\"ko\">\n",
      "<head>\n",
      "<meta name=\"robots\" content=\"noindex, nofollow\" />\n",
      "<meta htt\n"
     ]
    }
   ],
   "execution_count": 24
  },
  {
   "metadata": {},
   "cell_type": "markdown",
   "source": [
    "### task_7\n",
    "함수 실행 시간을 측정하는 데코레이터 timer_decorator를 작성하세요.\n",
    "\n",
    "임의의 함수가 실행되는 시간을 측정하여 \"함수 실행 시간: x.xx초\" 형태로 출력하세요."
   ]
  },
  {
   "metadata": {
    "ExecuteTime": {
     "end_time": "2025-04-28T07:18:33.571143Z",
     "start_time": "2025-04-28T07:18:30.561065Z"
    }
   },
   "cell_type": "code",
   "source": [
    "import datetime\n",
    "import time\n",
    "\n",
    "def timer_decorator(func):\n",
    "    def wrapper():\n",
    "        now1=datetime.datetime.now()\n",
    "        func()\n",
    "        now2=datetime.datetime.now()\n",
    "        sec=(now2-now1).total_seconds()\n",
    "        print(f'함수 실행 시간: {sec:.2f}초')\n",
    "    return wrapper\n",
    "\n",
    "@timer_decorator\n",
    "def test():\n",
    "    time.sleep(3)\n",
    "\n",
    "test()"
   ],
   "outputs": [
    {
     "name": "stdout",
     "output_type": "stream",
     "text": [
      "함수 실행 시간: 3.01초\n"
     ]
    }
   ],
   "execution_count": 34
  },
  {
   "metadata": {},
   "cell_type": "markdown",
   "source": [
    "### task_8\n",
    "여러분이 자주 사용하는 수학적 연산<br>\n",
    "(예: 삼각형 넓이, 원의 넓이, 직육면체의 넓이)을 수행하는 함수들을 포함하는 mymath.py라는 이름의 모듈을 만드세요.\n",
    "\n",
    "이 모듈을 사용하여 작성된 함수들을 실제로 임포트하고 사용하는 간단한 프로그램을 작성하세요."
   ]
  },
  {
   "metadata": {
    "ExecuteTime": {
     "end_time": "2025-04-28T07:27:12.110791Z",
     "start_time": "2025-04-28T07:27:12.107453Z"
    }
   },
   "cell_type": "code",
   "source": [
    "import mymath\n",
    "area=mymath\n",
    "print(area.triangle(1,2))\n",
    "print(area.rectangular(1,2))\n",
    "print(area.circle(2))"
   ],
   "outputs": [
    {
     "name": "stdout",
     "output_type": "stream",
     "text": [
      "1.0\n",
      "2\n",
      "12.56\n"
     ]
    }
   ],
   "execution_count": 35
  },
  {
   "metadata": {},
   "cell_type": "markdown",
   "source": [
    "### task_9\n",
    "animals라는 패키지를 만들고, 이 패키지 내에 mammals, birds라는 두 개의 서브 모듈을 생성하세요.\n",
    "\n",
    "- 각 모듈에는 최소한 한 개 이상의 동물에 관한 클래스를 정의하세요<br>\n",
    "  (예: mammals에는 Dog, birds에는 Eagle)\n",
    "- 이 패키지와 모듈을 사용하여 동물들의 정보를 출력하는 프로그램을 작성\n",
    "\n",
    "폴더 및 파일 구조\n",
    "```\n",
    "animals/(폴더)\n",
    "├── __init__.py\n",
    "├── mammals.py\n",
    "└── birds.py\n",
    "```\n"
   ]
  },
  {
   "metadata": {
    "ExecuteTime": {
     "end_time": "2025-04-28T08:05:36.750371Z",
     "start_time": "2025-04-28T08:05:36.747964Z"
    }
   },
   "cell_type": "code",
   "source": [
    "import animals.mammals as m\n",
    "import animals.birds as b\n",
    "\n",
    "a=m.dog()\n",
    "b=b.eagle()\n",
    "a.move()\n",
    "b.move()"
   ],
   "outputs": [
    {
     "name": "stdout",
     "output_type": "stream",
     "text": [
      "멍멍\n",
      "펄럭펄럭\n"
     ]
    }
   ],
   "execution_count": 7
  }
 ],
 "metadata": {
  "language_info": {
   "name": "python"
  }
 },
 "nbformat": 4,
 "nbformat_minor": 2
}
